{
  "nbformat": 4,
  "nbformat_minor": 0,
  "metadata": {
    "colab": {
      "provenance": []
    },
    "kernelspec": {
      "name": "python3",
      "display_name": "Python 3"
    },
    "language_info": {
      "name": "python"
    }
  },
  "cells": [
    {
      "cell_type": "markdown",
      "source": [
        "### Setting PySpark Session and reading data"
      ],
      "metadata": {
        "id": "GE4aYYeIYW0e"
      }
    },
    {
      "cell_type": "code",
      "execution_count": 27,
      "metadata": {
        "colab": {
          "base_uri": "https://localhost:8080/"
        },
        "id": "FcnNCDmQXOYb",
        "outputId": "a53006ba-7aab-4a69-ac37-c9e9ba64eb75"
      },
      "outputs": [
        {
          "output_type": "stream",
          "name": "stdout",
          "text": [
            "Looking in indexes: https://pypi.org/simple, https://us-python.pkg.dev/colab-wheels/public/simple/\n",
            "Requirement already satisfied: pyspark in /usr/local/lib/python3.8/dist-packages (3.3.1)\n",
            "Requirement already satisfied: py4j==0.10.9.5 in /usr/local/lib/python3.8/dist-packages (from pyspark) (0.10.9.5)\n"
          ]
        }
      ],
      "source": [
        "#  importing pyspark\n",
        "\n",
        "!pip install pyspark\n",
        "import pyspark"
      ]
    },
    {
      "cell_type": "code",
      "source": [
        "# importing textblob for finding sentiments of tweets\n",
        "\n",
        "!pip install textblob\n",
        "from textblob import TextBlob"
      ],
      "metadata": {
        "colab": {
          "base_uri": "https://localhost:8080/"
        },
        "id": "r30xh4BbXV9w",
        "outputId": "3645af69-6dec-47ba-84b7-f940557acb4e"
      },
      "execution_count": 28,
      "outputs": [
        {
          "output_type": "stream",
          "name": "stdout",
          "text": [
            "Looking in indexes: https://pypi.org/simple, https://us-python.pkg.dev/colab-wheels/public/simple/\n",
            "Requirement already satisfied: textblob in /usr/local/lib/python3.8/dist-packages (0.15.3)\n",
            "Requirement already satisfied: nltk>=3.1 in /usr/local/lib/python3.8/dist-packages (from textblob) (3.7)\n",
            "Requirement already satisfied: click in /usr/local/lib/python3.8/dist-packages (from nltk>=3.1->textblob) (7.1.2)\n",
            "Requirement already satisfied: joblib in /usr/local/lib/python3.8/dist-packages (from nltk>=3.1->textblob) (1.2.0)\n",
            "Requirement already satisfied: tqdm in /usr/local/lib/python3.8/dist-packages (from nltk>=3.1->textblob) (4.64.1)\n",
            "Requirement already satisfied: regex>=2021.8.3 in /usr/local/lib/python3.8/dist-packages (from nltk>=3.1->textblob) (2022.6.2)\n"
          ]
        }
      ]
    },
    {
      "cell_type": "code",
      "source": [
        "# importing necessary libraries \n",
        "\n",
        "from pyspark.sql import SparkSession"
      ],
      "metadata": {
        "id": "E12TdhpUXioP"
      },
      "execution_count": 29,
      "outputs": []
    },
    {
      "cell_type": "code",
      "source": [
        "from google.colab import drive\n",
        "drive.mount('/content/drive')"
      ],
      "metadata": {
        "colab": {
          "base_uri": "https://localhost:8080/"
        },
        "id": "0MgBxRuZoX9g",
        "outputId": "12675298-ba65-465a-defa-21c57ae1f069"
      },
      "execution_count": 30,
      "outputs": [
        {
          "output_type": "stream",
          "name": "stdout",
          "text": [
            "Drive already mounted at /content/drive; to attempt to forcibly remount, call drive.mount(\"/content/drive\", force_remount=True).\n"
          ]
        }
      ]
    },
    {
      "cell_type": "code",
      "source": [
        "# Building spark session\n",
        "\n",
        "spark = SparkSession.builder.appName('proj').getOrCreate()\n",
        "data = spark.read.json('/content/drive/MyDrive/DE/f4/HDFS-PySpark/final-tweet-wc.json')"
      ],
      "metadata": {
        "id": "XYEpalhIXlQs"
      },
      "execution_count": 58,
      "outputs": []
    },
    {
      "cell_type": "code",
      "source": [
        "data.schema"
      ],
      "metadata": {
        "colab": {
          "base_uri": "https://localhost:8080/"
        },
        "id": "3EgyqTTGXpB7",
        "outputId": "86378f1e-99f4-4ef2-8c6a-d22c9fc42860"
      },
      "execution_count": 59,
      "outputs": [
        {
          "output_type": "execute_result",
          "data": {
            "text/plain": [
              "StructType([StructField('content', StringType(), True), StructField('date', StringType(), True), StructField('filtered', StringType(), True), StructField('lang', StringType(), True), StructField('likeCount', LongType(), True), StructField('replyCount', LongType(), True), StructField('retweetCount', LongType(), True), StructField('tweetid', LongType(), True), StructField('url', StringType(), True), StructField('user_location', StringType(), True)])"
            ]
          },
          "metadata": {},
          "execution_count": 59
        }
      ]
    },
    {
      "cell_type": "code",
      "source": [
        "data.show(5)"
      ],
      "metadata": {
        "colab": {
          "base_uri": "https://localhost:8080/"
        },
        "id": "uhjekIYXdzW8",
        "outputId": "57fd01dd-5a20-4ad6-8e4e-915d566a5f9a"
      },
      "execution_count": 60,
      "outputs": [
        {
          "output_type": "stream",
          "name": "stdout",
          "text": [
            "+--------------------+--------------------+--------------------+----+---------+----------+------------+-------------------+--------------------+--------------------+\n",
            "|             content|                date|            filtered|lang|likeCount|replyCount|retweetCount|            tweetid|                 url|       user_location|\n",
            "+--------------------+--------------------+--------------------+----+---------+----------+------------+-------------------+--------------------+--------------------+\n",
            "|newyear with two ...|2022-01-01T00:01:...|newyear two major...|  en|       64|         2|           3|1477067523237593098|https://twitter.c...|   Casablanca, Maroc|\n",
            "|drop a  if youre ...|2022-01-01T00:03:...|drop youre ready ...|  en|       73|        12|           2|1477067916193398784|https://twitter.c...|     New Mexico, USA|\n",
            "|the ball is just ...|2022-01-01T00:04:...|ball ball enemy h...|  en|        0|         0|           0|1477068270620798978|https://twitter.c...|                    |\n",
            "|run that back tur...|2022-01-01T00:05:...|run back turbo qatar|  en|        0|         0|           0|1477068367420960771|https://twitter.c...|             England|\n",
            "| world cup year i...|2022-01-01T00:06:...|world cup year co...|  en|        1|         0|           0|1477068714424123398|https://twitter.c...|          Nottingham|\n",
            "|happy new yearthi...|2022-01-01T00:10:...|happy new yearthi...|  en|        0|         0|           0|1477069744419266560|https://twitter.c...|England, United K...|\n",
            "+--------------------+--------------------+--------------------+----+---------+----------+------------+-------------------+--------------------+--------------------+\n",
            "only showing top 6 rows\n",
            "\n"
          ]
        }
      ]
    },
    {
      "cell_type": "markdown",
      "source": [
        "# Sentiment of Tweet"
      ],
      "metadata": {
        "id": "Lqh_EfbEYhoE"
      }
    },
    {
      "cell_type": "code",
      "source": [
        "# importing necessary libraries\n",
        "from pyspark.sql.functions import udf, col"
      ],
      "metadata": {
        "id": "lWnGA-bgX2w6"
      },
      "execution_count": 61,
      "outputs": []
    },
    {
      "cell_type": "markdown",
      "source": [
        "### Finding Sentiment"
      ],
      "metadata": {
        "id": "djiKfDpqZ6ll"
      }
    },
    {
      "cell_type": "code",
      "source": [
        "# Creating function to find sentiment value using TextBlob\n",
        "def sentiment_val(tweet):\n",
        "    tweet_sentiment = TextBlob(tweet)\n",
        "    if tweet_sentiment.sentiment[0]>0:\n",
        "        return 1 #positive\n",
        "    elif tweet_sentiment.sentiment[0]<0:\n",
        "        return 2 #negative\n",
        "    else:\n",
        "        return 0 #neutral"
      ],
      "metadata": {
        "id": "0rqGkilVX_fa"
      },
      "execution_count": 65,
      "outputs": []
    },
    {
      "cell_type": "code",
      "source": [
        "# Making sentiment_val an UDF function\n",
        "sentiment_polarity = udf(lambda x: sentiment_val(x))\n",
        "spark.udf.register(\"sentiment_polarity\", sentiment_polarity)"
      ],
      "metadata": {
        "colab": {
          "base_uri": "https://localhost:8080/"
        },
        "id": "YAo-SeRYYBUs",
        "outputId": "e6b4c546-2b39-4eb5-be74-e3113745510d"
      },
      "execution_count": 66,
      "outputs": [
        {
          "output_type": "execute_result",
          "data": {
            "text/plain": [
              "<function __main__.<lambda>(x)>"
            ]
          },
          "metadata": {},
          "execution_count": 66
        }
      ]
    },
    {
      "cell_type": "code",
      "source": [
        "data = data.withColumn('sentiment_polarity',sentiment_polarity('filtered').cast('float'))"
      ],
      "metadata": {
        "id": "0xxc2B8xYDKb"
      },
      "execution_count": 67,
      "outputs": []
    },
    {
      "cell_type": "code",
      "source": [
        "data.schema"
      ],
      "metadata": {
        "colab": {
          "base_uri": "https://localhost:8080/"
        },
        "id": "NJrW177yYFhq",
        "outputId": "5284480e-1e99-402c-dd19-a36587deeced"
      },
      "execution_count": 68,
      "outputs": [
        {
          "output_type": "execute_result",
          "data": {
            "text/plain": [
              "StructType([StructField('content', StringType(), True), StructField('date', StringType(), True), StructField('filtered', StringType(), True), StructField('lang', StringType(), True), StructField('likeCount', LongType(), True), StructField('replyCount', LongType(), True), StructField('retweetCount', LongType(), True), StructField('tweetid', LongType(), True), StructField('url', StringType(), True), StructField('user_location', StringType(), True), StructField('sentiment_polarity', FloatType(), True)])"
            ]
          },
          "metadata": {},
          "execution_count": 68
        }
      ]
    },
    {
      "cell_type": "code",
      "source": [
        "data.show(5)"
      ],
      "metadata": {
        "colab": {
          "base_uri": "https://localhost:8080/"
        },
        "id": "kkutjId1YHvT",
        "outputId": "6a2b8a2a-2afb-4c6a-9865-4fa251ac47e8"
      },
      "execution_count": 189,
      "outputs": [
        {
          "output_type": "stream",
          "name": "stdout",
          "text": [
            "+--------------------+--------------------+--------------------+----+---------+----------+------------+-------------------+--------------------+-----------------+------------------+\n",
            "|             content|                date|            filtered|lang|likeCount|replyCount|retweetCount|            tweetid|                 url|    user_location|sentiment_polarity|\n",
            "+--------------------+--------------------+--------------------+----+---------+----------+------------+-------------------+--------------------+-----------------+------------------+\n",
            "|newyear with two ...|2022-01-01T00:01:...|newyear two major...|  en|       64|         2|           3|1477067523237593098|https://twitter.c...|Casablanca, Maroc|               1.0|\n",
            "|drop a  if youre ...|2022-01-01T00:03:...|drop youre ready ...|  en|       73|        12|           2|1477067916193398784|https://twitter.c...|  New Mexico, USA|               1.0|\n",
            "|the ball is just ...|2022-01-01T00:04:...|ball ball enemy h...|  en|        0|         0|           0|1477068270620798978|https://twitter.c...|                 |               2.0|\n",
            "|run that back tur...|2022-01-01T00:05:...|run back turbo qatar|  en|        0|         0|           0|1477068367420960771|https://twitter.c...|          England|               0.0|\n",
            "| world cup year i...|2022-01-01T00:06:...|world cup year co...|  en|        1|         0|           0|1477068714424123398|https://twitter.c...|       Nottingham|               0.0|\n",
            "+--------------------+--------------------+--------------------+----+---------+----------+------------+-------------------+--------------------+-----------------+------------------+\n",
            "only showing top 5 rows\n",
            "\n"
          ]
        }
      ]
    },
    {
      "cell_type": "markdown",
      "source": [
        "### Building ML models"
      ],
      "metadata": {
        "id": "0TkqLbhXPStu"
      }
    },
    {
      "cell_type": "code",
      "source": [
        "from pyspark.sql.types import DoubleType\n",
        "from pyspark.ml.feature import Tokenizer,HashingTF, IDF\n",
        "from pyspark.ml.classification import LogisticRegression, NaiveBayes\n",
        "from pyspark.ml import Pipeline\n",
        "from pyspark.ml.evaluation import MulticlassClassificationEvaluator"
      ],
      "metadata": {
        "id": "NN-HzdWkYJvL"
      },
      "execution_count": 70,
      "outputs": []
    },
    {
      "cell_type": "code",
      "source": [
        "# Train test split\n",
        "traindata, testdata = data.randomSplit([0.7,0.3])"
      ],
      "metadata": {
        "id": "5ogOGUZdYMEV"
      },
      "execution_count": 71,
      "outputs": []
    },
    {
      "cell_type": "code",
      "source": [
        "# Setting name of sentiment_polarity as label\n",
        "training = traindata.selectExpr(\"filtered as text\", \"sentiment_polarity as label\")\n",
        "training = training.withColumn(\"label\", training[\"label\"].cast(DoubleType()))"
      ],
      "metadata": {
        "id": "K86nFOF6YOvc"
      },
      "execution_count": 72,
      "outputs": []
    },
    {
      "cell_type": "code",
      "source": [
        "# Setting name of sentiment_polarity as label\n",
        "testing = testdata.selectExpr(\"filtered as text\", \"sentiment_polarity as label\")\n",
        "testing = testing.withColumn(\"label\", testing[\"label\"].cast(DoubleType()))"
      ],
      "metadata": {
        "id": "JXCqMRhKYQwn"
      },
      "execution_count": 73,
      "outputs": []
    },
    {
      "cell_type": "code",
      "source": [
        "# Tokenizing, Finding TF-IDF \n",
        "tokenizer_ = Tokenizer(inputCol=\"text\", outputCol=\"words\")\n",
        "hashingTF = HashingTF(inputCol=tokenizer_.getOutputCol(), outputCol=\"hashing\")\n",
        "idf = IDF(inputCol=hashingTF.getOutputCol(), outputCol=\"features\")"
      ],
      "metadata": {
        "id": "eWUmT6FwYTAo"
      },
      "execution_count": 74,
      "outputs": []
    },
    {
      "cell_type": "code",
      "source": [
        "# Creating pipeline for model stages and fiting train data in the pipeline \n",
        "lr = LogisticRegression(maxIter=10, regParam=0.01)\n",
        "pipeline = Pipeline(stages=[tokenizer_, hashingTF, idf, lr])\n",
        "model = pipeline.fit(training)"
      ],
      "metadata": {
        "id": "-hXL95OYYVhr"
      },
      "execution_count": 75,
      "outputs": []
    },
    {
      "cell_type": "code",
      "source": [
        "# Testing model\n",
        "prediction = model.transform(testing)"
      ],
      "metadata": {
        "id": "aMpFjlh1YXuu"
      },
      "execution_count": 76,
      "outputs": []
    },
    {
      "cell_type": "code",
      "source": [
        "# Creating pipeline for model stages and fiting train data in the pipeline \n",
        "nb = NaiveBayes(smoothing=1.0, modelType=\"multinomial\")\n",
        "pipeline_nb = Pipeline(stages=[tokenizer_, hashingTF, idf, nb])\n",
        "model_nb = pipeline_nb.fit(training)"
      ],
      "metadata": {
        "id": "-dY3bbdht4ei"
      },
      "execution_count": 94,
      "outputs": []
    },
    {
      "cell_type": "code",
      "source": [
        "# Testing model\n",
        "prediction_nb = model_nb.transform(testing)"
      ],
      "metadata": {
        "id": "Txo88cKB0cIv"
      },
      "execution_count": 95,
      "outputs": []
    },
    {
      "cell_type": "markdown",
      "source": [
        "### Evaluation"
      ],
      "metadata": {
        "id": "51AX16PxNxqS"
      }
    },
    {
      "cell_type": "code",
      "source": [
        "# Accuracy\n",
        "from pyspark.ml.evaluation import MulticlassClassificationEvaluator\n",
        "evaluator = MulticlassClassificationEvaluator(predictionCol=\"prediction\")\n",
        "evaluator.evaluate(prediction)"
      ],
      "metadata": {
        "colab": {
          "base_uri": "https://localhost:8080/"
        },
        "id": "nBR8EIWvpo8a",
        "outputId": "9f7e4c5c-308b-4544-8b65-47425a7d9c63"
      },
      "execution_count": 77,
      "outputs": [
        {
          "output_type": "execute_result",
          "data": {
            "text/plain": [
              "0.8887912700765708"
            ]
          },
          "metadata": {},
          "execution_count": 77
        }
      ]
    },
    {
      "cell_type": "code",
      "source": [
        "y_true = prediction.select(['label']).collect()\n",
        "y_pred = prediction.select(['prediction']).collect()"
      ],
      "metadata": {
        "id": "lhUHrQUzpq9r"
      },
      "execution_count": null,
      "outputs": []
    },
    {
      "cell_type": "code",
      "source": [
        "# Precision, Recall and F1-score\n",
        "from sklearn.metrics import classification_report, confusion_matrix\n",
        "print(classification_report(y_true, y_pred))"
      ],
      "metadata": {
        "colab": {
          "base_uri": "https://localhost:8080/"
        },
        "id": "zNrqvkvB0mMs",
        "outputId": "dd6e8a2f-2e87-4d19-fcf3-910b0596f644"
      },
      "execution_count": 86,
      "outputs": [
        {
          "output_type": "stream",
          "name": "stdout",
          "text": [
            "              precision    recall  f1-score   support\n",
            "\n",
            "         0.0       0.89      0.91      0.90    106638\n",
            "         1.0       0.91      0.89      0.90    109564\n",
            "         2.0       0.81      0.81      0.81     31817\n",
            "\n",
            "    accuracy                           0.89    248019\n",
            "   macro avg       0.87      0.87      0.87    248019\n",
            "weighted avg       0.89      0.89      0.89    248019\n",
            "\n"
          ]
        }
      ]
    },
    {
      "cell_type": "code",
      "source": [
        "cnf_matrix = confusion_matrix(y_true, y_pred)"
      ],
      "metadata": {
        "id": "ROEL-8y31i1Y"
      },
      "execution_count": 89,
      "outputs": []
    },
    {
      "cell_type": "code",
      "source": [
        "cnf_matrix"
      ],
      "metadata": {
        "colab": {
          "base_uri": "https://localhost:8080/"
        },
        "id": "YsrJl2qi1Wbz",
        "outputId": "ff35fbe4-8928-4378-b4b4-d7c392c9c186"
      },
      "execution_count": 92,
      "outputs": [
        {
          "output_type": "execute_result",
          "data": {
            "text/plain": [
              "array([[97552,  6675,  2411],\n",
              "       [ 8730, 97082,  3752],\n",
              "       [ 3061,  2952, 25804]])"
            ]
          },
          "metadata": {},
          "execution_count": 92
        }
      ]
    },
    {
      "cell_type": "code",
      "source": [
        "# Accuracy\n",
        "\n",
        "evaluator_nb = MulticlassClassificationEvaluator(predictionCol=\"prediction\")\n",
        "evaluator_nb.evaluate(prediction_nb)"
      ],
      "metadata": {
        "colab": {
          "base_uri": "https://localhost:8080/"
        },
        "id": "h0FLMdmB0e5S",
        "outputId": "32d6aad9-050f-4bf9-e192-1cae34b7f856"
      },
      "execution_count": 96,
      "outputs": [
        {
          "output_type": "execute_result",
          "data": {
            "text/plain": [
              "0.7243041358326046"
            ]
          },
          "metadata": {},
          "execution_count": 96
        }
      ]
    },
    {
      "cell_type": "code",
      "source": [
        "y_true_nb = prediction_nb.select(['label']).collect()\n",
        "y_pred_nb = prediction_nb.select(['prediction']).collect()"
      ],
      "metadata": {
        "id": "OcD5hbDM21xz"
      },
      "execution_count": 97,
      "outputs": []
    },
    {
      "cell_type": "code",
      "source": [
        "# Precision, Recall and F1-score\n",
        "print(classification_report(y_true_nb, y_pred_nb))"
      ],
      "metadata": {
        "colab": {
          "base_uri": "https://localhost:8080/"
        },
        "id": "uZTmGRUm29J7",
        "outputId": "0094d833-edf7-4552-def4-714e8b0439da"
      },
      "execution_count": 98,
      "outputs": [
        {
          "output_type": "stream",
          "name": "stdout",
          "text": [
            "              precision    recall  f1-score   support\n",
            "\n",
            "         0.0       0.87      0.63      0.73    106638\n",
            "         1.0       0.77      0.78      0.77    109564\n",
            "         2.0       0.40      0.74      0.52     31817\n",
            "\n",
            "    accuracy                           0.71    248019\n",
            "   macro avg       0.68      0.72      0.68    248019\n",
            "weighted avg       0.77      0.71      0.72    248019\n",
            "\n"
          ]
        }
      ]
    },
    {
      "cell_type": "code",
      "source": [
        "cnf_matrix_nb = confusion_matrix(y_true_nb, y_pred_nb,labels=[0.0,1.0,2.0])\n",
        "cnf_matrix_nb"
      ],
      "metadata": {
        "colab": {
          "base_uri": "https://localhost:8080/"
        },
        "id": "kQ2WkcRs3ICD",
        "outputId": "60a601df-b6cc-4bfb-fd39-54118aa36e93"
      },
      "execution_count": 129,
      "outputs": [
        {
          "output_type": "execute_result",
          "data": {
            "text/plain": [
              "array([[67475, 19812, 19351],\n",
              "       [ 7477, 85500, 16587],\n",
              "       [ 2225,  5896, 23696]])"
            ]
          },
          "metadata": {},
          "execution_count": 129
        }
      ]
    },
    {
      "cell_type": "code",
      "source": [
        "from mlxtend.plotting import plot_confusion_matrix"
      ],
      "metadata": {
        "id": "B4UlggumBovB"
      },
      "execution_count": 130,
      "outputs": []
    },
    {
      "cell_type": "code",
      "source": [
        "from matplotlib.pyplot import plot as plt"
      ],
      "metadata": {
        "id": "yL9wccWYBq7j"
      },
      "execution_count": 131,
      "outputs": []
    },
    {
      "cell_type": "code",
      "source": [
        "fig, ax = plot_confusion_matrix(conf_mat=cnf_matrix,colorbar=True,show_absolute=False,show_normed=True)\n",
        "plt"
      ],
      "metadata": {
        "colab": {
          "base_uri": "https://localhost:8080/",
          "height": 297
        },
        "id": "adDmXZLMB1T2",
        "outputId": "87a9e7a0-770f-418c-bb65-b2dc6c22776e"
      },
      "execution_count": 135,
      "outputs": [
        {
          "output_type": "execute_result",
          "data": {
            "text/plain": [
              "<function matplotlib.pyplot.plot(*args, scalex=True, scaley=True, data=None, **kwargs)>"
            ]
          },
          "metadata": {},
          "execution_count": 135
        },
        {
          "output_type": "display_data",
          "data": {
            "text/plain": [
              "<Figure size 432x288 with 2 Axes>"
            ],
            "image/png": "[encoded data removed]"
          },
          "metadata": {
            "needs_background": "light"
          }
        }
      ]
    },
    {
      "cell_type": "code",
      "source": [
        "fig, ax = plot_confusion_matrix(conf_mat=cnf_matrix_nb,colorbar=True,show_absolute=False,show_normed=True)\n",
        "plt"
      ],
      "metadata": {
        "colab": {
          "base_uri": "https://localhost:8080/",
          "height": 296
        },
        "id": "rrMgJy65_QmC",
        "outputId": "3b018997-f623-4726-e968-f206c76672ef"
      },
      "execution_count": 136,
      "outputs": [
        {
          "output_type": "execute_result",
          "data": {
            "text/plain": [
              "<function matplotlib.pyplot.plot(*args, scalex=True, scaley=True, data=None, **kwargs)>"
            ]
          },
          "metadata": {},
          "execution_count": 136
        },
        {
          "output_type": "display_data",
          "data": {
            "text/plain": [
              "<Figure size 432x288 with 2 Axes>"
            ],
            "image/png": "[encoded data removed]"
          },
          "metadata": {
            "needs_background": "light"
          }
        }
      ]
    },
    {
      "cell_type": "markdown",
      "source": [
        "# Queries"
      ],
      "metadata": {
        "id": "PR4eWqJD3sX4"
      }
    },
    {
      "cell_type": "markdown",
      "source": [
        "### LikeCount"
      ],
      "metadata": {
        "id": "mLmfIPVcNJmW"
      }
    },
    {
      "cell_type": "code",
      "source": [
        "import time"
      ],
      "metadata": {
        "id": "sgsGSQ033x4K"
      },
      "execution_count": 104,
      "outputs": []
    },
    {
      "cell_type": "code",
      "source": [
        "import pandas as pd"
      ],
      "metadata": {
        "id": "S9_otkP99WsM"
      },
      "execution_count": 161,
      "outputs": []
    },
    {
      "cell_type": "code",
      "source": [
        "data.schema"
      ],
      "metadata": {
        "colab": {
          "base_uri": "https://localhost:8080/"
        },
        "id": "kFu4r5w87fAG",
        "outputId": "2dde4f3b-0c00-4ee5-d4f0-2a8dfab2cf7e"
      },
      "execution_count": 105,
      "outputs": [
        {
          "output_type": "execute_result",
          "data": {
            "text/plain": [
              "StructType([StructField('content', StringType(), True), StructField('date', StringType(), True), StructField('filtered', StringType(), True), StructField('lang', StringType(), True), StructField('likeCount', LongType(), True), StructField('replyCount', LongType(), True), StructField('retweetCount', LongType(), True), StructField('tweetid', LongType(), True), StructField('url', StringType(), True), StructField('user_location', StringType(), True), StructField('sentiment_polarity', FloatType(), True)])"
            ]
          },
          "metadata": {},
          "execution_count": 105
        }
      ]
    },
    {
      "cell_type": "code",
      "source": [
        "# Dropping unused columns\n",
        "columns_to_drop = ['filtered', 'date','lang','replyCount','retweetCount','user_location','sentiment_polarity']\n",
        "df_likes = data.drop(*columns_to_drop)"
      ],
      "metadata": {
        "id": "VfygvdMZ4A9E"
      },
      "execution_count": 138,
      "outputs": []
    },
    {
      "cell_type": "code",
      "source": [
        "df_likes.schema"
      ],
      "metadata": {
        "colab": {
          "base_uri": "https://localhost:8080/"
        },
        "id": "QPsgaC2R4Bu1",
        "outputId": "433386c1-a934-43bb-8e92-cc5177817a8d"
      },
      "execution_count": 141,
      "outputs": [
        {
          "output_type": "execute_result",
          "data": {
            "text/plain": [
              "StructType([StructField('content', StringType(), True), StructField('likeCount', LongType(), True), StructField('tweetid', LongType(), True), StructField('url', StringType(), True)])"
            ]
          },
          "metadata": {},
          "execution_count": 141
        }
      ]
    },
    {
      "cell_type": "code",
      "source": [
        "# Creating rdd for likes dataframe\n",
        "rdd_likes = df_likes.rdd"
      ],
      "metadata": {
        "id": "B8Bm5R9V4FaE"
      },
      "execution_count": 142,
      "outputs": []
    },
    {
      "cell_type": "code",
      "source": [
        "time_start = time.time()\n",
        "sorted_likes_top_1 = rdd_likes.top(1, key=lambda x: x[1])\n",
        "print(f\"Top 1 Most Liked Tweet Query Time: {time.time() - time_start}\")"
      ],
      "metadata": {
        "colab": {
          "base_uri": "https://localhost:8080/"
        },
        "id": "lcla2kK03xS9",
        "outputId": "e7ed66f5-be60-4d41-aef4-66cc15ba9b43"
      },
      "execution_count": 156,
      "outputs": [
        {
          "output_type": "stream",
          "name": "stdout",
          "text": [
            "Top 1 Most Liked Tweet Query Time: 8.243618249893188\n"
          ]
        }
      ]
    },
    {
      "cell_type": "code",
      "source": [
        "sorted_likes_top_1"
      ],
      "metadata": {
        "colab": {
          "base_uri": "https://localhost:8080/"
        },
        "id": "Gz1rqqGo8XCZ",
        "outputId": "21913448-f04d-4f1f-e417-b7ece3343480"
      },
      "execution_count": 148,
      "outputs": [
        {
          "output_type": "execute_result",
          "data": {
            "text/plain": [
              "[Row(content='i cant express my gratitude and happiness for my participation in the biggest event of all times the world cup in my country qatar with the talented jung kook  thank you for everythingworldcup worldcup jungkookxfifa jungkookatfifaworldcup', likeCount=260684, tweetid=1594415074931875848, url='https://twitter.com/FahadAlkubaisi/status/1594415074931875848')]"
            ]
          },
          "metadata": {},
          "execution_count": 148
        }
      ]
    },
    {
      "cell_type": "code",
      "source": [
        "time_start = time.time()\n",
        "sorted_likes_top_10 = rdd_likes.top(10, key=lambda x: x[1])\n",
        "print(f\"Top 10 Most Liked Tweet Query Time: {time.time() - time_start}\")"
      ],
      "metadata": {
        "colab": {
          "base_uri": "https://localhost:8080/"
        },
        "id": "cr_oIyq44JlM",
        "outputId": "f7bbbb34-6b66-4a11-b7b4-5f5fe7c015a1"
      },
      "execution_count": 157,
      "outputs": [
        {
          "output_type": "stream",
          "name": "stdout",
          "text": [
            "Top 10 Most Liked Tweet Query Time: 8.582376956939697\n"
          ]
        }
      ]
    },
    {
      "cell_type": "code",
      "source": [
        "sorted_likes_top_10"
      ],
      "metadata": {
        "colab": {
          "base_uri": "https://localhost:8080/"
        },
        "id": "IFhpdx2M4Jhx",
        "outputId": "e84a74bc-f2ab-4d76-a9c7-487eeb8eb098"
      },
      "execution_count": 150,
      "outputs": [
        {
          "output_type": "execute_result",
          "data": {
            "text/plain": [
              "[Row(content='i cant express my gratitude and happiness for my participation in the biggest event of all times the world cup in my country qatar with the talented jung kook  thank you for everythingworldcup worldcup jungkookxfifa jungkookatfifaworldcup', likeCount=260684, tweetid=1594415074931875848, url='https://twitter.com/FahadAlkubaisi/status/1594415074931875848'),\n",
              " Row(content='breaking karim benzema will miss the world cup confirmed he will not be part of france  man squad  worldcup', likeCount=172092, tweetid=1594096052361056256, url='https://twitter.com/FabrizioRomano/status/1594096052361056256'),\n",
              " Row(content='whos going to north korea for worldcup', likeCount=147544, tweetid=1590382569069367297, url='https://twitter.com/SimonBrodkin/status/1590382569069367297'),\n",
              " Row(content='breaking sadio man will miss the world cup senegal confirms he will not be able to be part of the squad as hes not recovering from his injury  worldcup', likeCount=117489, tweetid=1593318352927203331, url='https://twitter.com/FabrizioRomano/status/1593318352927203331'),\n",
              " Row(content='wolrd cup group stage official draw  worldcup worldcupdrawwhos gonna win', likeCount=101261, tweetid=1509944281833914377, url='https://twitter.com/FabrizioRomano/status/1509944281833914377'),\n",
              " Row(content='alex scott sports the onelove armband after englands decision to abandon the gesture over fifa sanctions fifaworldcup  qatar', likeCount=95447, tweetid=1594669326900277248, url='https://twitter.com/sportbible/status/1594669326900277248'),\n",
              " Row(content='we are canada  we are going to qatarcanmnt forcanada wcq', likeCount=84132, tweetid=1508200731421163520, url='https://twitter.com/CanadaSoccerEN/status/1508200731421163520'),\n",
              " Row(content='official barcelona fullback alejandro balde has been called up by spain to replace jos gay  worldcupbalde will be part of spains  man list for qatar', likeCount=64407, tweetid=1593601533773598720, url='https://twitter.com/FabrizioRomano/status/1593601533773598720'),\n",
              " Row(content=' soccer fan airdrop soc reward  soc   referral  soc winners first come first served airdrop link   about bdf visit  airdrop airdropbsc soc soccer', likeCount=63038, tweetid=1505927905196478466, url='https://twitter.com/AirdropBSC_Com/status/1505927905196478466'),\n",
              " Row(content='and this is why borussia dortmund decided not to approve any price tag for jude bellingham before the world cup  qatarwhat a player', likeCount=60444, tweetid=1594687666234310658, url='https://twitter.com/FabrizioRomano/status/1594687666234310658')]"
            ]
          },
          "metadata": {},
          "execution_count": 150
        }
      ]
    },
    {
      "cell_type": "code",
      "source": [
        "time_start = time.time()\n",
        "sorted_likes_top_100 = rdd_likes.top(100, key=lambda x: x[1])\n",
        "print(f\"Top 100 Most Liked Tweet Query Time: {time.time() - time_start}\")"
      ],
      "metadata": {
        "colab": {
          "base_uri": "https://localhost:8080/"
        },
        "id": "oNenaUl68wel",
        "outputId": "64a0f708-b4b8-4114-fa90-904e1b117612"
      },
      "execution_count": 158,
      "outputs": [
        {
          "output_type": "stream",
          "name": "stdout",
          "text": [
            "Top 100 Most Liked Tweet Query Time: 8.63142704963684\n"
          ]
        }
      ]
    },
    {
      "cell_type": "code",
      "source": [
        "time_start = time.time()\n",
        "sorted_likes_top_1000 = rdd_likes.top(1000, key=lambda x: x[1])\n",
        "print(f\"Top 1000 Most Liked Tweet Query Time: {time.time() - time_start}\")"
      ],
      "metadata": {
        "colab": {
          "base_uri": "https://localhost:8080/"
        },
        "id": "pVaHbSYc81OY",
        "outputId": "28e9d828-c11a-436d-f9aa-a5796be52fb2"
      },
      "execution_count": 159,
      "outputs": [
        {
          "output_type": "stream",
          "name": "stdout",
          "text": [
            "Top 1000 Most Liked Tweet Query Time: 8.975438117980957\n"
          ]
        }
      ]
    },
    {
      "cell_type": "code",
      "source": [
        "time_start = time.time()\n",
        "sorted_likes_top_10000 = rdd_likes.top(10000, key=lambda x: x[1])\n",
        "print(f\"Top 10000 Most Liked Tweet Query Time: {time.time() - time_start}\")"
      ],
      "metadata": {
        "colab": {
          "base_uri": "https://localhost:8080/"
        },
        "id": "OwuIq8V89BA6",
        "outputId": "f35c5090-fe84-43cd-ca2c-97d86daa3b53"
      },
      "execution_count": 160,
      "outputs": [
        {
          "output_type": "stream",
          "name": "stdout",
          "text": [
            "Top 10000 Most Liked Tweet Query Time: 9.92312479019165\n"
          ]
        }
      ]
    },
    {
      "cell_type": "code",
      "source": [
        "data_liked_tweets=pd.DataFrame(sorted_likes_top_10)\n",
        "data_liked_tweets.to_csv('/content/drive/MyDrive/DE/f4/sorted_likes_top_10.csv',header=['content','likeCount','tweetid','url'])"
      ],
      "metadata": {
        "id": "aiERLt534JZ4"
      },
      "execution_count": 162,
      "outputs": []
    },
    {
      "cell_type": "markdown",
      "source": [
        "### ReplyCount"
      ],
      "metadata": {
        "id": "2MguyhAPJZ7g"
      }
    },
    {
      "cell_type": "code",
      "source": [
        "# Dropping unused columns\n",
        "columns_to_drop = ['filtered', 'date','lang','likeCount','retweetCount','user_location','sentiment_polarity']\n",
        "df_replyCounty = data.drop(*columns_to_drop)"
      ],
      "metadata": {
        "id": "S15zHPdB9o3a"
      },
      "execution_count": 170,
      "outputs": []
    },
    {
      "cell_type": "code",
      "source": [
        "df_replyCounty.schema"
      ],
      "metadata": {
        "colab": {
          "base_uri": "https://localhost:8080/"
        },
        "id": "qnxKQ8szF_8l",
        "outputId": "55e6e176-d506-45af-b8f3-c38ec227de6a"
      },
      "execution_count": 171,
      "outputs": [
        {
          "output_type": "execute_result",
          "data": {
            "text/plain": [
              "StructType([StructField('content', StringType(), True), StructField('replyCount', LongType(), True), StructField('tweetid', LongType(), True), StructField('url', StringType(), True)])"
            ]
          },
          "metadata": {},
          "execution_count": 171
        }
      ]
    },
    {
      "cell_type": "code",
      "source": [
        "# Creating rdd for replycount\n",
        "rdd_replyCount = df_replyCounty.rdd"
      ],
      "metadata": {
        "id": "m3LUr10JGHRr"
      },
      "execution_count": 172,
      "outputs": []
    },
    {
      "cell_type": "code",
      "source": [
        "time_start = time.time()\n",
        "sorted_replyCount_top_1 = rdd_replyCount.top(1, key=lambda x: x[1])\n",
        "print(f\"Top 1 Most ReplyCount Tweet Query Time: {time.time() - time_start}\")"
      ],
      "metadata": {
        "colab": {
          "base_uri": "https://localhost:8080/"
        },
        "id": "KM0dghR5GMV7",
        "outputId": "2c90056e-7c4e-44cb-a095-ea4001458681"
      },
      "execution_count": 174,
      "outputs": [
        {
          "output_type": "stream",
          "name": "stdout",
          "text": [
            "Top 1 Most ReplyCount Tweet Query Time: 9.356344223022461\n"
          ]
        }
      ]
    },
    {
      "cell_type": "code",
      "source": [
        "time_start = time.time()\n",
        "sorted_replyCount_top_10 = rdd_replyCount.top(10, key=lambda x: x[1])\n",
        "print(f\"Top 10 Most ReplyCount Tweet Query Time: {time.time() - time_start}\")"
      ],
      "metadata": {
        "colab": {
          "base_uri": "https://localhost:8080/"
        },
        "id": "3EzIXi-6Ihrg",
        "outputId": "e092e857-3515-484d-a174-31ef608af86b"
      },
      "execution_count": 175,
      "outputs": [
        {
          "output_type": "stream",
          "name": "stdout",
          "text": [
            "Top 10 Most ReplyCount Tweet Query Time: 9.19243574142456\n"
          ]
        }
      ]
    },
    {
      "cell_type": "code",
      "source": [
        "time_start = time.time()\n",
        "sorted_replyCount_top_100 = rdd_replyCount.top(100, key=lambda x: x[1])\n",
        "print(f\"Top 100 Most ReplyCount Tweet Query Time: {time.time() - time_start}\")"
      ],
      "metadata": {
        "colab": {
          "base_uri": "https://localhost:8080/"
        },
        "id": "EBVFgt-NIj4N",
        "outputId": "08a8ff4c-0406-4a49-edee-929b7ae484a2"
      },
      "execution_count": 176,
      "outputs": [
        {
          "output_type": "stream",
          "name": "stdout",
          "text": [
            "Top 100 Most ReplyCount Tweet Query Time: 8.832696199417114\n"
          ]
        }
      ]
    },
    {
      "cell_type": "code",
      "source": [
        "time_start = time.time()\n",
        "sorted_replyCount_top_1000 = rdd_replyCount.top(1000, key=lambda x: x[1])\n",
        "print(f\"Top 1000 Most ReplyCount Tweet Query Time: {time.time() - time_start}\")"
      ],
      "metadata": {
        "colab": {
          "base_uri": "https://localhost:8080/"
        },
        "id": "UikMLb9DIl6i",
        "outputId": "a29f30ff-ed12-489b-e4e4-0981149f1f03"
      },
      "execution_count": 177,
      "outputs": [
        {
          "output_type": "stream",
          "name": "stdout",
          "text": [
            "Top 1000 Most ReplyCount Tweet Query Time: 9.758176803588867\n"
          ]
        }
      ]
    },
    {
      "cell_type": "code",
      "source": [
        "time_start = time.time()\n",
        "sorted_replyCount_top_10000 = rdd_replyCount.top(10000, key=lambda x: x[1])\n",
        "print(f\"Top 10000 Most ReplyCount Tweet Query Time: {time.time() - time_start}\")"
      ],
      "metadata": {
        "colab": {
          "base_uri": "https://localhost:8080/"
        },
        "id": "liQvgU52In3u",
        "outputId": "dfd9592c-4d79-45b9-e458-5eeb7ec8a750"
      },
      "execution_count": 178,
      "outputs": [
        {
          "output_type": "stream",
          "name": "stdout",
          "text": [
            "Top 10000 Most ReplyCount Tweet Query Time: 10.07386302947998\n"
          ]
        }
      ]
    },
    {
      "cell_type": "code",
      "source": [
        "data_liked_tweets=pd.DataFrame(sorted_replyCount_top_10)\n",
        "data_liked_tweets.to_csv('/content/drive/MyDrive/DE/f4/sorted_replyCount_top_10.csv',header=['content','ReplyCount','tweetid','url'])"
      ],
      "metadata": {
        "id": "daTcloRKHK--"
      },
      "execution_count": 179,
      "outputs": []
    },
    {
      "cell_type": "markdown",
      "source": [
        "### RetweetCount"
      ],
      "metadata": {
        "id": "NbgrrSk4Jh1x"
      }
    },
    {
      "cell_type": "code",
      "source": [
        "# Dropping unused columns\n",
        "columns_to_drop = ['filtered', 'date','lang','likeCount','replyCount','user_location','sentiment_polarity']\n",
        "df_retweetCount = data.drop(*columns_to_drop)"
      ],
      "metadata": {
        "id": "xPBbKctiGsfe"
      },
      "execution_count": 180,
      "outputs": []
    },
    {
      "cell_type": "code",
      "source": [
        "df_retweetCount.schema"
      ],
      "metadata": {
        "colab": {
          "base_uri": "https://localhost:8080/"
        },
        "id": "0hdVDoW7KMJ-",
        "outputId": "24cac1d3-cade-44c9-86e3-ff2be3a8b416"
      },
      "execution_count": 181,
      "outputs": [
        {
          "output_type": "execute_result",
          "data": {
            "text/plain": [
              "StructType([StructField('content', StringType(), True), StructField('retweetCount', LongType(), True), StructField('tweetid', LongType(), True), StructField('url', StringType(), True)])"
            ]
          },
          "metadata": {},
          "execution_count": 181
        }
      ]
    },
    {
      "cell_type": "code",
      "source": [
        "# Creating rdd for retweets dataframe\n",
        "rdd_retweetCount = df_retweetCount.rdd"
      ],
      "metadata": {
        "id": "iNcCzX1wKOfY"
      },
      "execution_count": 182,
      "outputs": []
    },
    {
      "cell_type": "code",
      "source": [
        "time_start = time.time()\n",
        "sorted_retweetCount_top_1 = rdd_retweetCount.top(1, key=lambda x: x[1])\n",
        "print(f\"Top 1 Most retweetCount Tweet Query Time: {time.time() - time_start}\")"
      ],
      "metadata": {
        "colab": {
          "base_uri": "https://localhost:8080/"
        },
        "id": "BkTvlWx_K_DF",
        "outputId": "876b7063-c153-49f0-af07-7bcc70ec4dd5"
      },
      "execution_count": 183,
      "outputs": [
        {
          "output_type": "stream",
          "name": "stdout",
          "text": [
            "Top 1 Most retweetCount Tweet Query Time: 12.905333757400513\n"
          ]
        }
      ]
    },
    {
      "cell_type": "code",
      "source": [
        "time_start = time.time()\n",
        "sorted_retweetCount_top_10 = rdd_retweetCount.top(10, key=lambda x: x[1])\n",
        "print(f\"Top 10 Most retweetCount Tweet Query Time: {time.time() - time_start}\")"
      ],
      "metadata": {
        "colab": {
          "base_uri": "https://localhost:8080/"
        },
        "id": "QsK0XvsZK_la",
        "outputId": "53421d2f-599a-4d07-aacc-501ce4e55b29"
      },
      "execution_count": 184,
      "outputs": [
        {
          "output_type": "stream",
          "name": "stdout",
          "text": [
            "Top 10 Most retweetCount Tweet Query Time: 12.072924375534058\n"
          ]
        }
      ]
    },
    {
      "cell_type": "code",
      "source": [
        "time_start = time.time()\n",
        "sorted_retweetCount_top_100 = rdd_replyCount.top(100, key=lambda x: x[1])\n",
        "print(f\"Top 100 Most retweetCount Tweet Query Time: {time.time() - time_start}\")"
      ],
      "metadata": {
        "colab": {
          "base_uri": "https://localhost:8080/"
        },
        "id": "ifueE4fjLAFL",
        "outputId": "8607c6e9-0192-431d-f9a4-7f0afff04988"
      },
      "execution_count": 185,
      "outputs": [
        {
          "output_type": "stream",
          "name": "stdout",
          "text": [
            "Top 100 Most retweetCount Tweet Query Time: 12.153854608535767\n"
          ]
        }
      ]
    },
    {
      "cell_type": "code",
      "source": [
        "time_start = time.time()\n",
        "sorted_retweetCount_top_1000 = rdd_retweetCount.top(1000, key=lambda x: x[1])\n",
        "print(f\"Top 1000 Most retweetCount Tweet Query Time: {time.time() - time_start}\")"
      ],
      "metadata": {
        "colab": {
          "base_uri": "https://localhost:8080/"
        },
        "id": "4RKrbhPFLLKd",
        "outputId": "d027f3a0-4ab8-45a7-d528-13bf7c3257eb"
      },
      "execution_count": 186,
      "outputs": [
        {
          "output_type": "stream",
          "name": "stdout",
          "text": [
            "Top 1000 Most retweetCount Tweet Query Time: 10.361597061157227\n"
          ]
        }
      ]
    },
    {
      "cell_type": "code",
      "source": [
        "time_start = time.time()\n",
        "sorted_retweetCount_top_10000 = rdd_retweetCount.top(10000, key=lambda x: x[1])\n",
        "print(f\"Top 10000 Most retweetCount Tweet Query Time: {time.time() - time_start}\")"
      ],
      "metadata": {
        "colab": {
          "base_uri": "https://localhost:8080/"
        },
        "id": "6U3H-v5HLLxq",
        "outputId": "5f8e88e0-93f5-420d-a006-1e838e575ce3"
      },
      "execution_count": 187,
      "outputs": [
        {
          "output_type": "stream",
          "name": "stdout",
          "text": [
            "Top 10000 Most retweetCount Tweet Query Time: 12.505605936050415\n"
          ]
        }
      ]
    },
    {
      "cell_type": "code",
      "source": [
        "data_liked_tweets=pd.DataFrame(sorted_retweetCount_top_10)\n",
        "data_liked_tweets.to_csv('/content/drive/MyDrive/DE/f4/sorted_replyCount_top_10.csv',header=['content','retweetCount','tweetid','url'])"
      ],
      "metadata": {
        "id": "2Yvci44mMluz"
      },
      "execution_count": 188,
      "outputs": []
    },
    {
      "cell_type": "markdown",
      "source": [
        "### Month-wise sentiment counts"
      ],
      "metadata": {
        "id": "wBeqBb33PnYm"
      }
    },
    {
      "cell_type": "code",
      "source": [
        "from pyspark.sql.functions import to_timestamp,date_format"
      ],
      "metadata": {
        "id": "ebQyCFeCYULA"
      },
      "execution_count": null,
      "outputs": []
    },
    {
      "cell_type": "code",
      "source": [
        "data.schema"
      ],
      "metadata": {
        "colab": {
          "base_uri": "https://localhost:8080/"
        },
        "id": "TjopOYqxQ5_D",
        "outputId": "72b7aed9-61c0-4a55-e76f-ee3172f4eb0b"
      },
      "execution_count": 198,
      "outputs": [
        {
          "output_type": "execute_result",
          "data": {
            "text/plain": [
              "StructType([StructField('content', StringType(), True), StructField('date', StringType(), True), StructField('filtered', StringType(), True), StructField('lang', StringType(), True), StructField('likeCount', LongType(), True), StructField('replyCount', LongType(), True), StructField('retweetCount', LongType(), True), StructField('tweetid', LongType(), True), StructField('url', StringType(), True), StructField('user_location', StringType(), True), StructField('sentiment_polarity', FloatType(), True)])"
            ]
          },
          "metadata": {},
          "execution_count": 198
        }
      ]
    },
    {
      "cell_type": "code",
      "source": [
        "columns_to_drop = ['content','filtered','lang','likeCount','replyCount','retweetCount','tweetid','url','user_location']\n",
        "df_retweetCount = data.drop(*columns_to_drop)"
      ],
      "metadata": {
        "id": "V_BsShYqQ3iM"
      },
      "execution_count": 199,
      "outputs": []
    },
    {
      "cell_type": "code",
      "source": [
        "df_retweetCount = df_retweetCount.withColumn(\"date\",to_timestamp(col(\"date\"))).withColumn(\"month\", date_format(col(\"date\"), \"M\"))"
      ],
      "metadata": {
        "id": "wpHwpwkMQp5R"
      },
      "execution_count": 200,
      "outputs": []
    },
    {
      "cell_type": "code",
      "source": [
        "df_retweetCount.schema"
      ],
      "metadata": {
        "colab": {
          "base_uri": "https://localhost:8080/"
        },
        "id": "hphHaPBoR1CD",
        "outputId": "e355463d-d413-4aba-9116-f772234a2caa"
      },
      "execution_count": 201,
      "outputs": [
        {
          "output_type": "execute_result",
          "data": {
            "text/plain": [
              "StructType([StructField('date', TimestampType(), True), StructField('sentiment_polarity', FloatType(), True), StructField('month', StringType(), True)])"
            ]
          },
          "metadata": {},
          "execution_count": 201
        }
      ]
    },
    {
      "cell_type": "code",
      "source": [
        "df_retweetCount = df_retweetCount.drop('date')"
      ],
      "metadata": {
        "id": "4z3FN7akR_Oe"
      },
      "execution_count": 202,
      "outputs": []
    },
    {
      "cell_type": "code",
      "source": [
        "df_retweetCount"
      ],
      "metadata": {
        "colab": {
          "base_uri": "https://localhost:8080/"
        },
        "id": "Fx6E_QUrSHqz",
        "outputId": "ef8a8f3f-653f-4a4b-bac5-e33abf85c106"
      },
      "execution_count": 203,
      "outputs": [
        {
          "output_type": "execute_result",
          "data": {
            "text/plain": [
              "DataFrame[sentiment_polarity: float, month: string]"
            ]
          },
          "metadata": {},
          "execution_count": 203
        }
      ]
    },
    {
      "cell_type": "code",
      "source": [
        "neutral_count,positive_count,negative_count,total= [],[],[],[]"
      ],
      "metadata": {
        "id": "14Ky-MS4QcTH"
      },
      "execution_count": 204,
      "outputs": []
    },
    {
      "cell_type": "code",
      "source": [
        "# Finding month-wise neutral,positive,negative,total sentiment counts\n",
        "for month in range(1,13):\n",
        "  neutral_count.append(df_retweetCount.select(\"sentiment_polarity\").where((df_retweetCount.sentiment_polarity==0) & (df_retweetCount.month==month)).count())\n",
        "  positive_count.append(df_retweetCount.select(\"sentiment_polarity\").where((df_retweetCount.sentiment_polarity==1) & (df_retweetCount.month==month)).count())\n",
        "  negative_count.append(df_retweetCount.select(\"sentiment_polarity\").where((df_retweetCount.sentiment_polarity==2) & (df_retweetCount.month==month)).count())\n",
        "  total.append(df_retweetCount.select(\"sentiment_polarity\").where(df_retweetCount.month==month).count())"
      ],
      "metadata": {
        "id": "LifNk5oFQCbz"
      },
      "execution_count": 205,
      "outputs": []
    },
    {
      "cell_type": "code",
      "source": [
        "neutral_count"
      ],
      "metadata": {
        "colab": {
          "base_uri": "https://localhost:8080/"
        },
        "id": "V-_pIRWxRh54",
        "outputId": "0a51e124-3e20-46b2-e568-0ebc945f7a9c"
      },
      "execution_count": 206,
      "outputs": [
        {
          "output_type": "execute_result",
          "data": {
            "text/plain": [
              "[14558,\n",
              " 14415,\n",
              " 33761,\n",
              " 29023,\n",
              " 17280,\n",
              " 26340,\n",
              " 19922,\n",
              " 19380,\n",
              " 27170,\n",
              " 38029,\n",
              " 114937,\n",
              " 0]"
            ]
          },
          "metadata": {},
          "execution_count": 206
        }
      ]
    },
    {
      "cell_type": "code",
      "source": [
        "positive_count"
      ],
      "metadata": {
        "colab": {
          "base_uri": "https://localhost:8080/"
        },
        "id": "os5fJZ9tVPBb",
        "outputId": "e0d6db7b-8779-427e-8a16-054fb84bc946"
      },
      "execution_count": 207,
      "outputs": [
        {
          "output_type": "execute_result",
          "data": {
            "text/plain": [
              "[16891,\n",
              " 16316,\n",
              " 31043,\n",
              " 29168,\n",
              " 20634,\n",
              " 25277,\n",
              " 19540,\n",
              " 21347,\n",
              " 28611,\n",
              " 38715,\n",
              " 117215,\n",
              " 0]"
            ]
          },
          "metadata": {},
          "execution_count": 207
        }
      ]
    },
    {
      "cell_type": "code",
      "source": [
        "negative_count"
      ],
      "metadata": {
        "colab": {
          "base_uri": "https://localhost:8080/"
        },
        "id": "eVGuPqk2VRvR",
        "outputId": "e7e3c7fd-0205-4c23-824d-97e20defdb5f"
      },
      "execution_count": 208,
      "outputs": [
        {
          "output_type": "execute_result",
          "data": {
            "text/plain": [
              "[3833, 4024, 10675, 8261, 4227, 7141, 4220, 4201, 7371, 9991, 42285, 0]"
            ]
          },
          "metadata": {},
          "execution_count": 208
        }
      ]
    },
    {
      "cell_type": "code",
      "source": [
        "total"
      ],
      "metadata": {
        "colab": {
          "base_uri": "https://localhost:8080/"
        },
        "id": "uQxnfqP1VVmr",
        "outputId": "26c1c785-430e-458b-d3c7-96f9bfedf975"
      },
      "execution_count": 209,
      "outputs": [
        {
          "output_type": "execute_result",
          "data": {
            "text/plain": [
              "[35282,\n",
              " 34755,\n",
              " 75479,\n",
              " 66452,\n",
              " 42141,\n",
              " 58758,\n",
              " 43682,\n",
              " 44928,\n",
              " 63152,\n",
              " 86735,\n",
              " 274437,\n",
              " 0]"
            ]
          },
          "metadata": {},
          "execution_count": 209
        }
      ]
    },
    {
      "cell_type": "code",
      "source": [
        "data_monthwise_sentiment = pd.DataFrame(list(zip(positive_count,negative_count,neutral_count,total)),index =[1,2,3,4,5,6,7,8,9,10,11,12],columns =['Positive_Sentiments', 'Negative_Sentiments','Neutral_Sentiments','Total_Sentiments'])\n",
        "data_monthwise_sentiment"
      ],
      "metadata": {
        "colab": {
          "base_uri": "https://localhost:8080/",
          "height": 426
        },
        "id": "kDo1BiyEVZIr",
        "outputId": "40a5a8ee-863d-44f9-ff02-8e1869131441"
      },
      "execution_count": 210,
      "outputs": [
        {
          "output_type": "execute_result",
          "data": {
            "text/plain": [
              "    Positive_Sentiments  Negative_Sentiments  Neutral_Sentiments  \\\n",
              "1                 16891                 3833               14558   \n",
              "2                 16316                 4024               14415   \n",
              "3                 31043                10675               33761   \n",
              "4                 29168                 8261               29023   \n",
              "5                 20634                 4227               17280   \n",
              "6                 25277                 7141               26340   \n",
              "7                 19540                 4220               19922   \n",
              "8                 21347                 4201               19380   \n",
              "9                 28611                 7371               27170   \n",
              "10                38715                 9991               38029   \n",
              "11               117215                42285              114937   \n",
              "12                    0                    0                   0   \n",
              "\n",
              "    Total_Sentiments  \n",
              "1              35282  \n",
              "2              34755  \n",
              "3              75479  \n",
              "4              66452  \n",
              "5              42141  \n",
              "6              58758  \n",
              "7              43682  \n",
              "8              44928  \n",
              "9              63152  \n",
              "10             86735  \n",
              "11            274437  \n",
              "12                 0  "
            ],
            "text/html": [
              "\n",
              "  <div id=\"df-bad957c5-84de-4dc8-865a-f73c0792a414\">\n",
              "    <div class=\"colab-df-container\">\n",
              "      <div>\n",
              "<style scoped>\n",
              "    .dataframe tbody tr th:only-of-type {\n",
              "        vertical-align: middle;\n",
              "    }\n",
              "\n",
              "    .dataframe tbody tr th {\n",
              "        vertical-align: top;\n",
              "    }\n",
              "\n",
              "    .dataframe thead th {\n",
              "        text-align: right;\n",
              "    }\n",
              "</style>\n",
              "<table border=\"1\" class=\"dataframe\">\n",
              "  <thead>\n",
              "    <tr style=\"text-align: right;\">\n",
              "      <th></th>\n",
              "      <th>Positive_Sentiments</th>\n",
              "      <th>Negative_Sentiments</th>\n",
              "      <th>Neutral_Sentiments</th>\n",
              "      <th>Total_Sentiments</th>\n",
              "    </tr>\n",
              "  </thead>\n",
              "  <tbody>\n",
              "    <tr>\n",
              "      <th>1</th>\n",
              "      <td>16891</td>\n",
              "      <td>3833</td>\n",
              "      <td>14558</td>\n",
              "      <td>35282</td>\n",
              "    </tr>\n",
              "    <tr>\n",
              "      <th>2</th>\n",
              "      <td>16316</td>\n",
              "      <td>4024</td>\n",
              "      <td>14415</td>\n",
              "      <td>34755</td>\n",
              "    </tr>\n",
              "    <tr>\n",
              "      <th>3</th>\n",
              "      <td>31043</td>\n",
              "      <td>10675</td>\n",
              "      <td>33761</td>\n",
              "      <td>75479</td>\n",
              "    </tr>\n",
              "    <tr>\n",
              "      <th>4</th>\n",
              "      <td>29168</td>\n",
              "      <td>8261</td>\n",
              "      <td>29023</td>\n",
              "      <td>66452</td>\n",
              "    </tr>\n",
              "    <tr>\n",
              "      <th>5</th>\n",
              "      <td>20634</td>\n",
              "      <td>4227</td>\n",
              "      <td>17280</td>\n",
              "      <td>42141</td>\n",
              "    </tr>\n",
              "    <tr>\n",
              "      <th>6</th>\n",
              "      <td>25277</td>\n",
              "      <td>7141</td>\n",
              "      <td>26340</td>\n",
              "      <td>58758</td>\n",
              "    </tr>\n",
              "    <tr>\n",
              "      <th>7</th>\n",
              "      <td>19540</td>\n",
              "      <td>4220</td>\n",
              "      <td>19922</td>\n",
              "      <td>43682</td>\n",
              "    </tr>\n",
              "    <tr>\n",
              "      <th>8</th>\n",
              "      <td>21347</td>\n",
              "      <td>4201</td>\n",
              "      <td>19380</td>\n",
              "      <td>44928</td>\n",
              "    </tr>\n",
              "    <tr>\n",
              "      <th>9</th>\n",
              "      <td>28611</td>\n",
              "      <td>7371</td>\n",
              "      <td>27170</td>\n",
              "      <td>63152</td>\n",
              "    </tr>\n",
              "    <tr>\n",
              "      <th>10</th>\n",
              "      <td>38715</td>\n",
              "      <td>9991</td>\n",
              "      <td>38029</td>\n",
              "      <td>86735</td>\n",
              "    </tr>\n",
              "    <tr>\n",
              "      <th>11</th>\n",
              "      <td>117215</td>\n",
              "      <td>42285</td>\n",
              "      <td>114937</td>\n",
              "      <td>274437</td>\n",
              "    </tr>\n",
              "    <tr>\n",
              "      <th>12</th>\n",
              "      <td>0</td>\n",
              "      <td>0</td>\n",
              "      <td>0</td>\n",
              "      <td>0</td>\n",
              "    </tr>\n",
              "  </tbody>\n",
              "</table>\n",
              "</div>\n",
              "      <button class=\"colab-df-convert\" onclick=\"convertToInteractive('df-bad957c5-84de-4dc8-865a-f73c0792a414')\"\n",
              "              title=\"Convert this dataframe to an interactive table.\"\n",
              "              style=\"display:none;\">\n",
              "        \n",
              "  <svg xmlns=\"http://www.w3.org/2000/svg\" height=\"24px\"viewBox=\"0 0 24 24\"\n",
              "       width=\"24px\">\n",
              "    <path d=\"M0 0h24v24H0V0z\" fill=\"none\"/>\n",
              "    <path d=\"M18.56 5.44l.94 2.06.94-2.06 2.06-.94-2.06-.94-.94-2.06-.94 2.06-2.06.94zm-11 1L8.5 8.5l.94-2.06 2.06-.94-2.06-.94L8.5 2.5l-.94 2.06-2.06.94zm10 10l.94 2.06.94-2.06 2.06-.94-2.06-.94-.94-2.06-.94 2.06-2.06.94z\"/><path d=\"M17.41 7.96l-1.37-1.37c-.4-.4-.92-.59-1.43-.59-.52 0-1.04.2-1.43.59L10.3 9.45l-7.72 7.72c-.78.78-.78 2.05 0 2.83L4 21.41c.39.39.9.59 1.41.59.51 0 1.02-.2 1.41-.59l7.78-7.78 2.81-2.81c.8-.78.8-2.07 0-2.86zM5.41 20L4 18.59l7.72-7.72 1.47 1.35L5.41 20z\"/>\n",
              "  </svg>\n",
              "      </button>\n",
              "      \n",
              "  <style>\n",
              "    .colab-df-container {\n",
              "      display:flex;\n",
              "      flex-wrap:wrap;\n",
              "      gap: 12px;\n",
              "    }\n",
              "\n",
              "    .colab-df-convert {\n",
              "      background-color: #E8F0FE;\n",
              "      border: none;\n",
              "      border-radius: 50%;\n",
              "      cursor: pointer;\n",
              "      display: none;\n",
              "      fill: #1967D2;\n",
              "      height: 32px;\n",
              "      padding: 0 0 0 0;\n",
              "      width: 32px;\n",
              "    }\n",
              "\n",
              "    .colab-df-convert:hover {\n",
              "      background-color: #E2EBFA;\n",
              "      box-shadow: 0px 1px 2px rgba(60, 64, 67, 0.3), 0px 1px 3px 1px rgba(60, 64, 67, 0.15);\n",
              "      fill: #174EA6;\n",
              "    }\n",
              "\n",
              "    [theme=dark] .colab-df-convert {\n",
              "      background-color: #3B4455;\n",
              "      fill: #D2E3FC;\n",
              "    }\n",
              "\n",
              "    [theme=dark] .colab-df-convert:hover {\n",
              "      background-color: #434B5C;\n",
              "      box-shadow: 0px 1px 3px 1px rgba(0, 0, 0, 0.15);\n",
              "      filter: drop-shadow(0px 1px 2px rgba(0, 0, 0, 0.3));\n",
              "      fill: #FFFFFF;\n",
              "    }\n",
              "  </style>\n",
              "\n",
              "      <script>\n",
              "        const buttonEl =\n",
              "          document.querySelector('#df-bad957c5-84de-4dc8-865a-f73c0792a414 button.colab-df-convert');\n",
              "        buttonEl.style.display =\n",
              "          google.colab.kernel.accessAllowed ? 'block' : 'none';\n",
              "\n",
              "        async function convertToInteractive(key) {\n",
              "          const element = document.querySelector('#df-bad957c5-84de-4dc8-865a-f73c0792a414');\n",
              "          const dataTable =\n",
              "            await google.colab.kernel.invokeFunction('convertToInteractive',\n",
              "                                                     [key], {});\n",
              "          if (!dataTable) return;\n",
              "\n",
              "          const docLinkHtml = 'Like what you see? Visit the ' +\n",
              "            '<a target=\"_blank\" href=https://colab.research.google.com/notebooks/data_table.ipynb>data table notebook</a>'\n",
              "            + ' to learn more about interactive tables.';\n",
              "          element.innerHTML = '';\n",
              "          dataTable['output_type'] = 'display_data';\n",
              "          await google.colab.output.renderOutput(dataTable, element);\n",
              "          const docLink = document.createElement('div');\n",
              "          docLink.innerHTML = docLinkHtml;\n",
              "          element.appendChild(docLink);\n",
              "        }\n",
              "      </script>\n",
              "    </div>\n",
              "  </div>\n",
              "  "
            ]
          },
          "metadata": {},
          "execution_count": 210
        }
      ]
    },
    {
      "cell_type": "code",
      "source": [
        "data_monthwise_sentiment.to_csv('/content/drive/MyDrive/DE/f4/monthwise_sentiments.csv')"
      ],
      "metadata": {
        "id": "ZalK9DgiWTsa"
      },
      "execution_count": 211,
      "outputs": []
    },
    {
      "cell_type": "markdown",
      "source": [
        "# Query df.top(10) on different data size"
      ],
      "metadata": {
        "id": "FEdl9qSuwMmB"
      }
    },
    {
      "cell_type": "code",
      "source": [
        "spark_1 = SparkSession.builder.appName('proj1').getOrCreate()\n",
        "data = spark.read.json('/content/drive/MyDrive/DE/f4/tweet-wc.json')"
      ],
      "metadata": {
        "id": "ylytA-GohsR5"
      },
      "execution_count": 212,
      "outputs": []
    },
    {
      "cell_type": "code",
      "source": [
        "data.schema"
      ],
      "metadata": {
        "colab": {
          "base_uri": "https://localhost:8080/"
        },
        "id": "b7uECe8Fi4_D",
        "outputId": "85106467-4bac-49f9-ef6b-1af1a099f51a"
      },
      "execution_count": 215,
      "outputs": [
        {
          "output_type": "execute_result",
          "data": {
            "text/plain": [
              "StructType([StructField('content', StringType(), True), StructField('date', StringType(), True), StructField('lang', StringType(), True), StructField('likeCount', LongType(), True), StructField('replyCount', LongType(), True), StructField('retweetCount', LongType(), True), StructField('tweetid', LongType(), True), StructField('url', StringType(), True), StructField('user_displayname', StringType(), True), StructField('user_followersCount', LongType(), True), StructField('user_friendsCount', LongType(), True), StructField('user_id', LongType(), True), StructField('user_location', StringType(), True), StructField('user_url', StringType(), True), StructField('user_username', StringType(), True)])"
            ]
          },
          "metadata": {},
          "execution_count": 215
        }
      ]
    },
    {
      "cell_type": "code",
      "source": [
        "columns_to_drop = ['filtered', 'date','lang','replyCount','retweetCount','user_location','sentiment_polarity','user_displayname','user_followersCount','user_friendsCount','user_id','user_url','user_username']\n",
        "df_likes_ = data.drop(*columns_to_drop)"
      ],
      "metadata": {
        "id": "klS0F5cXiYEB"
      },
      "execution_count": 218,
      "outputs": []
    },
    {
      "cell_type": "code",
      "source": [
        "df_likes_.schema"
      ],
      "metadata": {
        "colab": {
          "base_uri": "https://localhost:8080/"
        },
        "id": "05l83DAhihGm",
        "outputId": "3261fea1-658e-4801-fbfe-4138c6f5b408"
      },
      "execution_count": 219,
      "outputs": [
        {
          "output_type": "execute_result",
          "data": {
            "text/plain": [
              "StructType([StructField('content', StringType(), True), StructField('likeCount', LongType(), True), StructField('tweetid', LongType(), True), StructField('url', StringType(), True)])"
            ]
          },
          "metadata": {},
          "execution_count": 219
        }
      ]
    },
    {
      "cell_type": "code",
      "source": [
        "rdd_likes = df_likes_.rdd"
      ],
      "metadata": {
        "id": "tA0Crr6Mi8Ao"
      },
      "execution_count": 223,
      "outputs": []
    },
    {
      "cell_type": "code",
      "source": [
        "time_start = time.time()\n",
        "sorted_likes_top_10 = rdd_likes.top(10, key=lambda x: x[1])\n",
        "print(f\"Top 10 Most Liked Tweet Query Time: {time.time() - time_start}\")"
      ],
      "metadata": {
        "colab": {
          "base_uri": "https://localhost:8080/"
        },
        "id": "f5ysk-FTiBzA",
        "outputId": "66ebe46d-bfbe-4435-ac8b-c97fd51902b7"
      },
      "execution_count": 224,
      "outputs": [
        {
          "output_type": "stream",
          "name": "stdout",
          "text": [
            "Top 10 Most Liked Tweet Query Time: 3.147566556930542\n"
          ]
        }
      ]
    },
    {
      "cell_type": "code",
      "source": [
        "spark_2 = SparkSession.builder.appName('proj2').getOrCreate()\n",
        "data_2 = spark.read.option('multiline',True).json('/content/drive/MyDrive/DE/f4/data-analytics-tweet-wc.json')"
      ],
      "metadata": {
        "id": "WYxtEeJbjF_d"
      },
      "execution_count": 225,
      "outputs": []
    },
    {
      "cell_type": "code",
      "source": [
        "data_2.schema"
      ],
      "metadata": {
        "colab": {
          "base_uri": "https://localhost:8080/"
        },
        "id": "FZ6-CnZJjwKT",
        "outputId": "32edc180-44c0-4866-f830-fa70030ad679"
      },
      "execution_count": 227,
      "outputs": [
        {
          "output_type": "execute_result",
          "data": {
            "text/plain": [
              "StructType([StructField('content', StringType(), True), StructField('date', StringType(), True), StructField('lang', StringType(), True), StructField('likeCount', LongType(), True), StructField('replyCount', LongType(), True), StructField('retweetCount', LongType(), True), StructField('tweetid', LongType(), True), StructField('url', StringType(), True), StructField('user_displayname', StringType(), True), StructField('user_followersCount', LongType(), True), StructField('user_friendsCount', LongType(), True), StructField('user_id', LongType(), True), StructField('user_location', StringType(), True), StructField('user_url', StringType(), True), StructField('user_username', StringType(), True)])"
            ]
          },
          "metadata": {},
          "execution_count": 227
        }
      ]
    },
    {
      "cell_type": "code",
      "source": [
        "columns_to_drop = ['content','tweetid','url','filtered', 'date','lang','replyCount','retweetCount','user_location','sentiment_polarity','user_displayname','user_followersCount','user_friendsCount','user_id','user_url','user_username']\n",
        "df_likes_ = data_2.drop(*columns_to_drop)"
      ],
      "metadata": {
        "id": "hjHTllEMknQC"
      },
      "execution_count": 232,
      "outputs": []
    },
    {
      "cell_type": "code",
      "source": [
        "df_likes_.schema"
      ],
      "metadata": {
        "colab": {
          "base_uri": "https://localhost:8080/"
        },
        "id": "OCB6YDILrWtD",
        "outputId": "dfed2d68-1361-40fb-d5df-df42d39b1397"
      },
      "execution_count": 233,
      "outputs": [
        {
          "output_type": "execute_result",
          "data": {
            "text/plain": [
              "StructType([StructField('likeCount', LongType(), True)])"
            ]
          },
          "metadata": {},
          "execution_count": 233
        }
      ]
    },
    {
      "cell_type": "code",
      "source": [
        "rdd_likes = df_likes_.rdd"
      ],
      "metadata": {
        "id": "sAfyuH6ckuyB"
      },
      "execution_count": 234,
      "outputs": []
    },
    {
      "cell_type": "code",
      "source": [
        "time_start = time.time()\n",
        "sorted_likes_top_10 = rdd_likes.top(10)\n",
        "print(f\"Top 10 Most Liked Tweet Query Time: {time.time() - time_start}\")"
      ],
      "metadata": {
        "colab": {
          "base_uri": "https://localhost:8080/"
        },
        "id": "yH0yju3Hkw6x",
        "outputId": "e160ba19-4bdf-4d61-e52d-79951f629d27"
      },
      "execution_count": 236,
      "outputs": [
        {
          "output_type": "stream",
          "name": "stdout",
          "text": [
            "Top 10 Most Liked Tweet Query Time: 115.25807619094849\n"
          ]
        }
      ]
    },
    {
      "cell_type": "code",
      "source": [],
      "metadata": {
        "id": "FJrm3rppkzLd"
      },
      "execution_count": null,
      "outputs": []
    }
  ]
}