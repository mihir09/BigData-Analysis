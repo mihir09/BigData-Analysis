{
 "cells": [
  {
   "cell_type": "code",
   "execution_count": null,
   "metadata": {},
   "outputs": [],
   "source": [
    "import findspark\n",
    "import pyspark\n",
    "from pyspark import SparkContext, SparkConf\n",
    "from pyspark.sql import SparkSession\n",
    "\n",
    "import json\n",
    "import csv\n",
    "import os\n",
    "import uuid\n",
    "import sys\n",
    "\n",
    "from dateutil.relativedelta import relativedelta\n",
    "from datetime import datetime"
   ]
  },
  {
   "cell_type": "code",
   "execution_count": null,
   "metadata": {},
   "outputs": [],
   "source": [
    "#Initialize spark session\n",
    "findspark.init()\n",
    "SparkContext.setSystemProperty('spark.executor.memory', '4g')\n",
    "conf = SparkConf().setAppName(\"combinetweets\").setMaster(\"local\")\n",
    "sc = SparkContext(conf=conf)"
   ]
  },
  {
   "cell_type": "code",
   "execution_count": null,
   "metadata": {},
   "outputs": [],
   "source": [
    "#Get list of paths for all files saved by scrapper\n",
    "\n",
    "# basepath = r\"C:\\Users\\Vineet\\Desktop\\cs226\\snscrapetest\\data\"\n",
    "basepath = r\"D:\\Vineet\\PROJECTS\\sns\\snscrapetest\\14gbdata\"\n",
    "\n",
    "foldername = basepath\n",
    "pathlist = []\n",
    "\n",
    "for root, dirs, files in os.walk(foldername):\n",
    "    for file in files:\n",
    "        if (file.endswith(\".json\")):\n",
    "            pathlist.append(os.path.join(root, file))"
   ]
  },
  {
   "cell_type": "code",
   "execution_count": null,
   "metadata": {},
   "outputs": [],
   "source": [
    "#Helper functions\n",
    "\n",
    "#function to filter required fields from raw data\n",
    "def get_data(rawdata):\n",
    "    data = {}\n",
    "    data['url'] = rawdata['url']\n",
    "    data['date'] = rawdata['date']\n",
    "    data['content'] = rawdata['content']\n",
    "    data['tweetid'] = rawdata['id']\n",
    "    data['user_username'] = rawdata['user']['username']\n",
    "    data['user_id'] = rawdata['user']['id']\n",
    "    data['user_displayname'] = rawdata['user']['displayname']\n",
    "    data['user_followersCount'] = rawdata['user']['followersCount']\n",
    "    data['user_friendsCount'] = rawdata['user']['friendsCount']\n",
    "    data['user_location'] = rawdata['user']['location']\n",
    "    data['user_url'] = rawdata['user']['url']\n",
    "    data['replyCount'] = rawdata['replyCount']\n",
    "    data['retweetCount'] = rawdata['retweetCount']\n",
    "    data['likeCount'] = rawdata['likeCount']\n",
    "    data['lang'] = rawdata['lang']\n",
    "    return data\n",
    "\n",
    "\n",
    "#function to save combined tweet json\n",
    "def savetweets(tweets):\n",
    "    fn = 'data-analytics-tweet-wc'.format(uuid.uuid4().hex)\n",
    "    fpath = 'D:\\\\Vineet\\\\PROJECTS\\\\sns\\\\snscrapetest\\\\combined\\\\{}.json'.format(fn)\n",
    "    temp = open(fpath, 'w')\n",
    "    json.dump(tweets,temp)\n",
    "    temp.close()\n",
    "    print(fn)"
   ]
  },
  {
   "cell_type": "code",
   "execution_count": null,
   "metadata": {},
   "outputs": [],
   "source": [
    "%%time\n",
    "\n",
    "#Combining all tweets from all files\n",
    "total_files = 0\n",
    "total_records = 0\n",
    "reset_limit = 5000001\n",
    "reset_counter = 0\n",
    "\n",
    "tweets = []\n",
    "count = 0\n",
    "\n",
    "for p in pathlist:\n",
    "    print(p)\n",
    "    textFile = sc.textFile(p)\n",
    "    total_files +=1\n",
    "    rawdata = textFile.collect()\n",
    "    total_records += len(rawdata)\n",
    "    \n",
    "    for d in rawdata:\n",
    "        if (reset_counter < reset_limit):\n",
    "            json_object = json.loads(d)\n",
    "            \n",
    "            # Considering only english tweets\n",
    "            if (json_object['lang'] == 'en'):\n",
    "                payload = get_data(json_object)\n",
    "                tweets.append(payload)\n",
    "                reset_counter += 1\n",
    "        else:\n",
    "            savetweets(tweets)\n",
    "            print(\"saved---------\")\n",
    "            tweets = []\n",
    "            reset_counter = 0\n",
    "            \n",
    "savetweets(tweets)\n",
    "print('Total File Count {} Total tweet Count {}'.format(total_files, total_records))\n",
    "print('Completed---------')"
   ]
  },
  {
   "cell_type": "code",
   "execution_count": null,
   "metadata": {},
   "outputs": [],
   "source": []
  }
 ],
 "metadata": {
  "kernelspec": {
   "display_name": "Python 3",
   "language": "python",
   "name": "python3"
  },
  "language_info": {
   "codemirror_mode": {
    "name": "ipython",
    "version": 3
   },
   "file_extension": ".py",
   "mimetype": "text/x-python",
   "name": "python",
   "nbconvert_exporter": "python",
   "pygments_lexer": "ipython3",
   "version": "3.8.5"
  }
 },
 "nbformat": 4,
 "nbformat_minor": 4
}
