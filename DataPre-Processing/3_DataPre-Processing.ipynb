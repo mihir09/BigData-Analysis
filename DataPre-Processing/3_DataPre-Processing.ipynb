{
 "cells": [
  {
   "cell_type": "code",
   "execution_count": 1,
   "id": "f9e25bc0",
   "metadata": {},
   "outputs": [],
   "source": [
    "# Import PySpark\n",
    "import pyspark\n",
    "from pyspark import SparkContext\n",
    "from pyspark.sql import SparkSession\n",
    "from pyspark.sql import SQLContext\n",
    "\n",
    "\n",
    "import re as re\n",
    "\n",
    "# NLTK Library\n",
    "import nltk\n",
    "from nltk.corpus import stopwords\n",
    "from nltk.stem import WordNetLemmatizer\n",
    "\n",
    "# Numpy\n",
    "import numpy as np\n",
    "\n",
    "# Data Pre-processing functions of pyspark\n",
    "from pyspark.sql import functions as F\n",
    "from pyspark.sql.functions import size\n",
    "from pyspark.sql.functions import udf, col\n",
    "from pyspark.ml.feature import RegexTokenizer,StopWordsRemover\n",
    "\n",
    "# String\n",
    "import string\n",
    "from pyspark.sql import Row\n",
    "from pyspark.sql.functions import concat_ws\n",
    "from pyspark.sql.types import StringType\n",
    "\n",
    "\n",
    "# Operating System\n",
    "import os\n",
    "import sys"
   ]
  },
  {
   "cell_type": "code",
   "execution_count": 2,
   "id": "dc9c2804",
   "metadata": {},
   "outputs": [
    {
     "name": "stderr",
     "output_type": "stream",
     "text": [
      "[nltk_data] Downloading package omw-1.4 to\n",
      "[nltk_data]     C:\\Users\\Vishv\\AppData\\Roaming\\nltk_data...\n",
      "[nltk_data]   Package omw-1.4 is already up-to-date!\n",
      "[nltk_data] Downloading package wordnet to\n",
      "[nltk_data]     C:\\Users\\Vishv\\AppData\\Roaming\\nltk_data...\n",
      "[nltk_data]   Package wordnet is already up-to-date!\n",
      "[nltk_data] Downloading package stopwords to\n",
      "[nltk_data]     C:\\Users\\Vishv\\AppData\\Roaming\\nltk_data...\n",
      "[nltk_data]   Package stopwords is already up-to-date!\n"
     ]
    },
    {
     "data": {
      "text/plain": [
       "True"
      ]
     },
     "execution_count": 2,
     "metadata": {},
     "output_type": "execute_result"
    }
   ],
   "source": [
    "# Download item of NLTK\n",
    "nltk.download('omw-1.4')\n",
    "nltk.download('wordnet')\n",
    "nltk.download('stopwords')"
   ]
  },
  {
   "cell_type": "code",
   "execution_count": 3,
   "id": "18441879",
   "metadata": {},
   "outputs": [],
   "source": [
    "# SparkSession Created\n",
    "os.environ['PYSPARK_PYTHON'] = sys.executable\n",
    "os.environ['PYSPARK_DRIVER_PYTHON'] = sys.executable\n",
    "spark =SparkSession.builder.master(\"local[1]\").appName('SparkProject').getOrCreate() "
   ]
  },
  {
   "cell_type": "code",
   "execution_count": 4,
   "id": "672dc6d0",
   "metadata": {},
   "outputs": [],
   "source": [
    "# Read file from HDFS and storing to dataframe\n",
    "# df = spark.read.option(\"multiline\", \"true\").json(\"hdfs://localhost:9000/bigdata/data-analytics-tweet-wc-300mb-fresh.json\")\n",
    "# df = spark.read.option(\"multiline\", \"true\").json(\"hdfs://localhost:9000/finalbigdata/finaldata/data-analytics-tweet-wc.json\")\n",
    "data = spark.read.option(\"multiline\", \"true\").json(\"hdfs://localhost:9000/finalbigdata/finaldata/final-tweet-wc.json\")"
   ]
  },
  {
   "cell_type": "code",
   "execution_count": 5,
   "id": "ce0c9571",
   "metadata": {},
   "outputs": [],
   "source": [
    "# Drop duplicate tweets in the data and filter data\n",
    "data = data.dropDuplicates(['tweetid'])\n",
    "#data = data.na.drop()\n",
    "data = data.filter(\"content != ''\")"
   ]
  },
  {
   "cell_type": "code",
   "execution_count": 6,
   "id": "1c9ba77d",
   "metadata": {},
   "outputs": [],
   "source": [
    "# Taking only english language tweets\n",
    "data = data[data.lang == \"en\"]"
   ]
  },
  {
   "cell_type": "code",
   "execution_count": 7,
   "id": "97ed1d9f",
   "metadata": {},
   "outputs": [
    {
     "data": {
      "text/plain": [
       "[Row(content='#NewYear2022 with two major  football events; \\n\\n#AFCON2022 \\n&amp;\\n#WorldCup2022 \\n\\nOur best wishes to our national team ! https://t.co/FYlQNYekxa', date='2022-01-01T00:01:54+00:00', lang='en', likeCount=64, replyCount=2, retweetCount=3, tweetid=1477067523237593098, url='https://twitter.com/arryadiatv/status/1477067523237593098', user_location='Casablanca, Maroc'),\n",
       " Row(content='Drop a 💛 if you’re ready to see Brett score some bangers at The Lab! \\n.\\n#somosunidos #newmexico #soccer #newsigning #futbol #uslchampionship https://t.co/xQwXwpqi4A', date='2022-01-01T00:03:28+00:00', lang='en', likeCount=73, replyCount=12, retweetCount=2, tweetid=1477067916193398784, url='https://twitter.com/NewMexicoUTD/status/1477067916193398784', user_location='New Mexico, USA'),\n",
       " Row(content='the ball is just a ball, the enemy is just a human, and you, you are not a ordinary one, you are a SOCCER PLAYER!!!! #soccer', date='2022-01-01T00:04:52+00:00', lang='en', likeCount=0, replyCount=0, retweetCount=0, tweetid=1477068270620798978, url='https://twitter.com/soccerlover0414/status/1477068270620798978', user_location=''),\n",
       " Row(content='Run that back turbo #Qatar2022 https://t.co/q27bplJgaT', date='2022-01-01T00:05:16+00:00', lang='en', likeCount=0, replyCount=0, retweetCount=0, tweetid=1477068367420960771, url='https://twitter.com/LewisGTurner/status/1477068367420960771', user_location='England'),\n",
       " Row(content='2022! World Cup year! ITS COMING HOME! 🏴\\U000e0067\\U000e0062\\U000e0065\\U000e006e\\U000e0067\\U000e007f 🦁 \\n\\n#NewYear2022 #WorldCup2022 #Qatar', date='2022-01-01T00:06:38+00:00', lang='en', likeCount=1, replyCount=0, retweetCount=0, tweetid=1477068714424123398, url='https://twitter.com/DirtyLyle/status/1477068714424123398', user_location='Nottingham'),\n",
       " Row(content='Happy new year,this year is ours🏴\\U000e0067\\U000e0062\\U000e0065\\U000e006e\\U000e0067\\U000e007f🏆 #WorldCup2022 #england', date='2022-01-01T00:10:44+00:00', lang='en', likeCount=0, replyCount=0, retweetCount=0, tweetid=1477069744419266560, url='https://twitter.com/sharna02x/status/1477069744419266560', user_location='England, United Kingdom'),\n",
       " Row(content='If you need a last minute #taxdeduction, my @DonorsChoose project only needs $100 to be fully funded. https://t.co/vIFxaOdC5e #soccer', date='2022-01-01T00:12:11+00:00', lang='en', likeCount=0, replyCount=0, retweetCount=0, tweetid=1477070111345459201, url='https://twitter.com/PeggyGrantham1/status/1477070111345459201', user_location='Fayetteville, NC'),\n",
       " Row(content='Happy New Year all! \\nDid someone say 2022 is a @FIFAWorldCup World Cup year #WorldCup2022 #excited @England #ThreeLions #HAPPYNEWYEAR2022 #HNY2022 https://t.co/tMDMj9yCgz', date='2022-01-01T00:13:48+00:00', lang='en', likeCount=9, replyCount=0, retweetCount=0, tweetid=1477070516330676225, url='https://twitter.com/marksully9/status/1477070516330676225', user_location='Shepton Mallet'),\n",
       " Row(content=\"Something old, something new, something borrowed, something blue, wait that's something else but Welcome to 2022! We're looking forward to this year with the #Qatar2022 #FIFAWorldCup coming. What are you looking forward to? We'll have a special announcement in the coming days!\", date='2022-01-01T00:15:02+00:00', lang='en', likeCount=0, replyCount=1, retweetCount=0, tweetid=1477070827849924609, url='https://twitter.com/pitchtalk/status/1477070827849924609', user_location='Worldwide'),\n",
       " Row(content='@83thefilm is a fantastic storyteller for a generation that did not live through the #joy &amp; #pride of the 1st #WorldCup of #Indiaacricketteam. \\n\\nDon’t listen to the #hatemongers! \\n\\n#Watch it with #fullfeeling\\n\\nI laughed \\nI cried \\nI clapped \\nI bit my nails \\n\\n#cricket w/o politics', date='2022-01-01T00:30:32+00:00', lang='en', likeCount=0, replyCount=0, retweetCount=0, tweetid=1477074726623219719, url='https://twitter.com/PriChee/status/1477074726623219719', user_location='')]"
      ]
     },
     "execution_count": 7,
     "metadata": {},
     "output_type": "execute_result"
    }
   ],
   "source": [
    "data.head(10)"
   ]
  },
  {
   "cell_type": "code",
   "execution_count": 8,
   "id": "9bf63960",
   "metadata": {},
   "outputs": [
    {
     "data": {
      "text/plain": [
       "825801"
      ]
     },
     "execution_count": 8,
     "metadata": {},
     "output_type": "execute_result"
    }
   ],
   "source": [
    "data.count()"
   ]
  },
  {
   "cell_type": "code",
   "execution_count": 9,
   "id": "e4df4e28",
   "metadata": {},
   "outputs": [],
   "source": [
    "# data = data.drop('user_displayname','user_followersCount','user_friendsCount','user_id','user_url','user_username')"
   ]
  },
  {
   "cell_type": "code",
   "execution_count": 10,
   "id": "01a0254b",
   "metadata": {},
   "outputs": [
    {
     "name": "stdout",
     "output_type": "stream",
     "text": [
      "root\n",
      " |-- content: string (nullable = true)\n",
      " |-- date: string (nullable = true)\n",
      " |-- lang: string (nullable = true)\n",
      " |-- likeCount: long (nullable = true)\n",
      " |-- replyCount: long (nullable = true)\n",
      " |-- retweetCount: long (nullable = true)\n",
      " |-- tweetid: long (nullable = true)\n",
      " |-- url: string (nullable = true)\n",
      " |-- user_location: string (nullable = true)\n",
      "\n"
     ]
    }
   ],
   "source": [
    "data.printSchema()"
   ]
  },
  {
   "cell_type": "code",
   "execution_count": 11,
   "id": "c5712750",
   "metadata": {},
   "outputs": [],
   "source": [
    "# Function to remove emoji from the content\n",
    "\n",
    "def emoji_removing(string):\n",
    "    emoji = re.compile(\"[\"u\"\\U0001F600-\\U0001F64F\"u\"\\U0001F300-\\U0001F5FF\"u\"\\U0001F680-\\U0001F6FF\"u\"\\U0001F1E0-\\U0001F1FF\"u\"\\U00002702-\\U000027B0\"u\"\\U000024C2-\\U0001F251\"\"]+\", flags=re.UNICODE)\n",
    "    return emoji.sub(r'', string)\n"
   ]
  },
  {
   "cell_type": "code",
   "execution_count": 12,
   "id": "95fa9301",
   "metadata": {},
   "outputs": [],
   "source": [
    "# Function to remove number from the content\n",
    "\n",
    "def number_removing(tweets):\n",
    "    tweets = re.sub('([0-9]+)', '', tweets)\n",
    "    return tweets"
   ]
  },
  {
   "cell_type": "code",
   "execution_count": 13,
   "id": "462ddf76",
   "metadata": {},
   "outputs": [],
   "source": [
    "# Function to remove user with @ from the content\n",
    "\n",
    "def user_removing(tweets):\n",
    "    tweets = re.sub('(RT\\s@[A-Za-z]+[A-Za-z0-9-_]+)', '', tweets)\n",
    "    tweets = re.sub('(@[A-Za-z]+[A-Za-z0-9-_]+)', '', tweets)\n",
    "    return tweets"
   ]
  },
  {
   "cell_type": "code",
   "execution_count": 14,
   "id": "9acc8905",
   "metadata": {},
   "outputs": [],
   "source": [
    "# Removing emojis, user and number from the content\n",
    "\n",
    "emoji_removing=udf(emoji_removing)\n",
    "user_removing=udf(user_removing)\n",
    "number_removing=udf(number_removing)"
   ]
  },
  {
   "cell_type": "code",
   "execution_count": 15,
   "id": "8e46b5d3",
   "metadata": {},
   "outputs": [],
   "source": [
    "data=data.withColumn('content', emoji_removing(data['content']))\n",
    "data=data.withColumn('content', user_removing(data['content']))\n",
    "data=data.withColumn('content', number_removing(data['content']))"
   ]
  },
  {
   "cell_type": "code",
   "execution_count": 16,
   "id": "68dd621a",
   "metadata": {},
   "outputs": [],
   "source": [
    "# Removing unncessary charecters from the tweets\n",
    "\n",
    "data = data.withColumn('content', F.regexp_replace('content', r'http\\S+', ''))\n",
    "data = data.withColumn('content', F.regexp_replace('content', '@\\w+', ''))\n",
    "data = data.withColumn('content', F.regexp_replace('content', '#', ''))\n",
    "data = data.withColumn('content', F.regexp_replace('content', '[^\\sa-zA-Z0-9]', ''))\n",
    "data = data.withColumn(\"content\",F.lower('content'))\n",
    "data = data.withColumn(\"content\",F.rtrim('content'))"
   ]
  },
  {
   "cell_type": "code",
   "execution_count": 17,
   "id": "e1392462",
   "metadata": {},
   "outputs": [
    {
     "data": {
      "text/plain": [
       "[Row(content='newyear with two major  football events \\n\\nafcon \\namp\\nworldcup \\n\\nour best wishes to our national team', date='2022-01-01T00:01:54+00:00', lang='en', likeCount=64, replyCount=2, retweetCount=3, tweetid=1477067523237593098, url='https://twitter.com/arryadiatv/status/1477067523237593098', user_location='Casablanca, Maroc'),\n",
       " Row(content='drop a  if youre ready to see brett score some bangers at the lab \\n\\nsomosunidos newmexico soccer newsigning futbol uslchampionship', date='2022-01-01T00:03:28+00:00', lang='en', likeCount=73, replyCount=12, retweetCount=2, tweetid=1477067916193398784, url='https://twitter.com/NewMexicoUTD/status/1477067916193398784', user_location='New Mexico, USA'),\n",
       " Row(content='the ball is just a ball the enemy is just a human and you you are not a ordinary one you are a soccer player soccer', date='2022-01-01T00:04:52+00:00', lang='en', likeCount=0, replyCount=0, retweetCount=0, tweetid=1477068270620798978, url='https://twitter.com/soccerlover0414/status/1477068270620798978', user_location=''),\n",
       " Row(content='run that back turbo qatar', date='2022-01-01T00:05:16+00:00', lang='en', likeCount=0, replyCount=0, retweetCount=0, tweetid=1477068367420960771, url='https://twitter.com/LewisGTurner/status/1477068367420960771', user_location='England'),\n",
       " Row(content=' world cup year its coming home   \\n\\nnewyear worldcup qatar', date='2022-01-01T00:06:38+00:00', lang='en', likeCount=1, replyCount=0, retweetCount=0, tweetid=1477068714424123398, url='https://twitter.com/DirtyLyle/status/1477068714424123398', user_location='Nottingham'),\n",
       " Row(content='happy new yearthis year is ours worldcup england', date='2022-01-01T00:10:44+00:00', lang='en', likeCount=0, replyCount=0, retweetCount=0, tweetid=1477069744419266560, url='https://twitter.com/sharna02x/status/1477069744419266560', user_location='England, United Kingdom'),\n",
       " Row(content='if you need a last minute taxdeduction my  project only needs  to be fully funded  soccer', date='2022-01-01T00:12:11+00:00', lang='en', likeCount=0, replyCount=0, retweetCount=0, tweetid=1477070111345459201, url='https://twitter.com/PeggyGrantham1/status/1477070111345459201', user_location='Fayetteville, NC'),\n",
       " Row(content='happy new year all \\ndid someone say  is a  world cup year worldcup excited  threelions happynewyear hny', date='2022-01-01T00:13:48+00:00', lang='en', likeCount=9, replyCount=0, retweetCount=0, tweetid=1477070516330676225, url='https://twitter.com/marksully9/status/1477070516330676225', user_location='Shepton Mallet'),\n",
       " Row(content='something old something new something borrowed something blue wait thats something else but welcome to  were looking forward to this year with the qatar fifaworldcup coming what are you looking forward to well have a special announcement in the coming days', date='2022-01-01T00:15:02+00:00', lang='en', likeCount=0, replyCount=1, retweetCount=0, tweetid=1477070827849924609, url='https://twitter.com/pitchtalk/status/1477070827849924609', user_location='Worldwide'),\n",
       " Row(content=' is a fantastic storyteller for a generation that did not live through the joy amp pride of the st worldcup of indiaacricketteam \\n\\ndont listen to the hatemongers \\n\\nwatch it with fullfeeling\\n\\ni laughed \\ni cried \\ni clapped \\ni bit my nails \\n\\ncricket wo politics', date='2022-01-01T00:30:32+00:00', lang='en', likeCount=0, replyCount=0, retweetCount=0, tweetid=1477074726623219719, url='https://twitter.com/PriChee/status/1477074726623219719', user_location='')]"
      ]
     },
     "execution_count": 17,
     "metadata": {},
     "output_type": "execute_result"
    }
   ],
   "source": [
    "data.head(10)"
   ]
  },
  {
   "cell_type": "code",
   "execution_count": 18,
   "id": "c9c4427d",
   "metadata": {},
   "outputs": [],
   "source": [
    "# Tokenization\n",
    "\n",
    "tokenizer = RegexTokenizer().setPattern(\"[\\\\W_]+\").setMinTokenLength(3).setInputCol(\"content\").setOutputCol(\"tokens\")\n",
    "data = tokenizer.transform(data)"
   ]
  },
  {
   "cell_type": "code",
   "execution_count": 19,
   "id": "49484fa2",
   "metadata": {},
   "outputs": [],
   "source": [
    "# Stopwords Removing\n",
    "\n",
    "stopwordList = stopwords.words('english')\n",
    "remover = StopWordsRemover(stopWords=stopwordList)\n",
    "remover.setInputCol(\"tokens\")\n",
    "remover.setOutputCol(\"filtered\")\n",
    "\n",
    "data = remover.transform(data);"
   ]
  },
  {
   "cell_type": "code",
   "execution_count": 20,
   "id": "84284465",
   "metadata": {},
   "outputs": [],
   "source": [
    "# Lemmatization\n",
    "\n",
    "lemmatizer = WordNetLemmatizer()\n",
    "def lemmatization(rows):\n",
    "    rows = [lemmatizer.lemmatize(word,'v') for word in rows]\n",
    "    return rows\n",
    "\n",
    "lemmatization = udf(lemmatization)\n",
    "data=data.withColumn('tokens', lemmatization(data['filtered']))"
   ]
  },
  {
   "cell_type": "code",
   "execution_count": 21,
   "id": "e29b7827",
   "metadata": {
    "scrolled": true
   },
   "outputs": [
    {
     "data": {
      "text/plain": [
       "Row(content='newyear with two major  football events \\n\\nafcon \\namp\\nworldcup \\n\\nour best wishes to our national team', date='2022-01-01T00:01:54+00:00', lang='en', likeCount=64, replyCount=2, retweetCount=3, tweetid=1477067523237593098, url='https://twitter.com/arryadiatv/status/1477067523237593098', user_location='Casablanca, Maroc', tokens='[newyear, two, major, football, events, afcon, amp, worldcup, best, wish, national, team]', filtered=['newyear', 'two', 'major', 'football', 'events', 'afcon', 'amp', 'worldcup', 'best', 'wishes', 'national', 'team'])"
      ]
     },
     "execution_count": 21,
     "metadata": {},
     "output_type": "execute_result"
    }
   ],
   "source": [
    "data.head()"
   ]
  },
  {
   "cell_type": "code",
   "execution_count": 22,
   "id": "3255148e",
   "metadata": {},
   "outputs": [],
   "source": [
    "# Filtered the data after preprocessing the data\n",
    "\n",
    "data = data.withColumn(\"filtered\", concat_ws(\" \", \"filtered\"))"
   ]
  },
  {
   "cell_type": "code",
   "execution_count": 23,
   "id": "117743c7",
   "metadata": {},
   "outputs": [],
   "source": [
    "# Drop tokens from the dataframe\n",
    "# data=data.drop(\"tokens\",\"filtered\")\n",
    "data=data.drop(\"tokens\")"
   ]
  },
  {
   "cell_type": "code",
   "execution_count": 24,
   "id": "797fdede",
   "metadata": {},
   "outputs": [
    {
     "data": {
      "text/plain": [
       "Row(content='newyear with two major  football events \\n\\nafcon \\namp\\nworldcup \\n\\nour best wishes to our national team', date='2022-01-01T00:01:54+00:00', lang='en', likeCount=64, replyCount=2, retweetCount=3, tweetid=1477067523237593098, url='https://twitter.com/arryadiatv/status/1477067523237593098', user_location='Casablanca, Maroc', filtered='newyear two major football events afcon amp worldcup best wishes national team')"
      ]
     },
     "execution_count": 24,
     "metadata": {},
     "output_type": "execute_result"
    }
   ],
   "source": [
    "data.head()"
   ]
  },
  {
   "cell_type": "code",
   "execution_count": 25,
   "id": "9d746b81",
   "metadata": {},
   "outputs": [],
   "source": [
    "# Downlad the data as json\n",
    "data.write.json('final-tweet-wc.json')"
   ]
  },
  {
   "cell_type": "code",
   "execution_count": 26,
   "id": "d2b8c382",
   "metadata": {},
   "outputs": [
    {
     "name": "stdout",
     "output_type": "stream",
     "text": [
      "Requirement already satisfied: spacy in d:\\anaconda\\lib\\site-packages (3.4.3)\n",
      "Requirement already satisfied: preshed<3.1.0,>=3.0.2 in d:\\anaconda\\lib\\site-packages (from spacy) (3.0.8)\n",
      "Requirement already satisfied: catalogue<2.1.0,>=2.0.6 in d:\\anaconda\\lib\\site-packages (from spacy) (2.0.8)\n",
      "Requirement already satisfied: tqdm<5.0.0,>=4.38.0 in d:\\anaconda\\lib\\site-packages (from spacy) (4.64.1)\n",
      "Requirement already satisfied: cymem<2.1.0,>=2.0.2 in d:\\anaconda\\lib\\site-packages (from spacy) (2.0.7)\n",
      "Requirement already satisfied: thinc<8.2.0,>=8.1.0 in d:\\anaconda\\lib\\site-packages (from spacy) (8.1.5)\n",
      "Requirement already satisfied: typer<0.8.0,>=0.3.0 in d:\\anaconda\\lib\\site-packages (from spacy) (0.7.0)\n",
      "Requirement already satisfied: spacy-legacy<3.1.0,>=3.0.10 in d:\\anaconda\\lib\\site-packages (from spacy) (3.0.10)\n",
      "Requirement already satisfied: numpy>=1.15.0 in d:\\anaconda\\lib\\site-packages (from spacy) (1.21.5)\n",
      "Requirement already satisfied: srsly<3.0.0,>=2.4.3 in d:\\anaconda\\lib\\site-packages (from spacy) (2.4.5)\n",
      "Requirement already satisfied: langcodes<4.0.0,>=3.2.0 in d:\\anaconda\\lib\\site-packages (from spacy) (3.3.0)\n",
      "Requirement already satisfied: spacy-loggers<2.0.0,>=1.0.0 in d:\\anaconda\\lib\\site-packages (from spacy) (1.0.3)\n",
      "Requirement already satisfied: setuptools in d:\\anaconda\\lib\\site-packages (from spacy) (63.4.1)\n",
      "Requirement already satisfied: murmurhash<1.1.0,>=0.28.0 in d:\\anaconda\\lib\\site-packages (from spacy) (1.0.9)\n",
      "Requirement already satisfied: wasabi<1.1.0,>=0.9.1 in d:\\anaconda\\lib\\site-packages (from spacy) (0.10.1)\n",
      "Requirement already satisfied: requests<3.0.0,>=2.13.0 in d:\\anaconda\\lib\\site-packages (from spacy) (2.28.1)\n",
      "Requirement already satisfied: jinja2 in d:\\anaconda\\lib\\site-packages (from spacy) (2.11.3)\n",
      "Requirement already satisfied: pathy>=0.3.5 in d:\\anaconda\\lib\\site-packages (from spacy) (0.10.0)\n",
      "Requirement already satisfied: pydantic!=1.8,!=1.8.1,<1.11.0,>=1.7.4 in d:\\anaconda\\lib\\site-packages (from spacy) (1.10.2)\n",
      "Requirement already satisfied: packaging>=20.0 in d:\\anaconda\\lib\\site-packages (from spacy) (21.3)\n",
      "Requirement already satisfied: pyparsing!=3.0.5,>=2.0.2 in d:\\anaconda\\lib\\site-packages (from packaging>=20.0->spacy) (3.0.9)\n",
      "Requirement already satisfied: smart-open<6.0.0,>=5.2.1 in d:\\anaconda\\lib\\site-packages (from pathy>=0.3.5->spacy) (5.2.1)\n",
      "Requirement already satisfied: typing-extensions>=4.1.0 in d:\\anaconda\\lib\\site-packages (from pydantic!=1.8,!=1.8.1,<1.11.0,>=1.7.4->spacy) (4.3.0)\n",
      "Requirement already satisfied: idna<4,>=2.5 in d:\\anaconda\\lib\\site-packages (from requests<3.0.0,>=2.13.0->spacy) (3.3)\n",
      "Requirement already satisfied: charset-normalizer<3,>=2 in d:\\anaconda\\lib\\site-packages (from requests<3.0.0,>=2.13.0->spacy) (2.0.4)\n",
      "Requirement already satisfied: certifi>=2017.4.17 in d:\\anaconda\\lib\\site-packages (from requests<3.0.0,>=2.13.0->spacy) (2022.9.14)\n",
      "Requirement already satisfied: urllib3<1.27,>=1.21.1 in d:\\anaconda\\lib\\site-packages (from requests<3.0.0,>=2.13.0->spacy) (1.26.11)\n",
      "Requirement already satisfied: confection<1.0.0,>=0.0.1 in d:\\anaconda\\lib\\site-packages (from thinc<8.2.0,>=8.1.0->spacy) (0.0.3)\n",
      "Requirement already satisfied: blis<0.8.0,>=0.7.8 in d:\\anaconda\\lib\\site-packages (from thinc<8.2.0,>=8.1.0->spacy) (0.7.9)\n",
      "Requirement already satisfied: colorama in d:\\anaconda\\lib\\site-packages (from tqdm<5.0.0,>=4.38.0->spacy) (0.4.5)\n",
      "Requirement already satisfied: click<9.0.0,>=7.1.1 in d:\\anaconda\\lib\\site-packages (from typer<0.8.0,>=0.3.0->spacy) (8.0.4)\n",
      "Requirement already satisfied: MarkupSafe>=0.23 in d:\\anaconda\\lib\\site-packages (from jinja2->spacy) (2.0.1)\n"
     ]
    }
   ],
   "source": [
    "!pip install spacy"
   ]
  },
  {
   "cell_type": "code",
   "execution_count": 27,
   "id": "4c2780a5",
   "metadata": {},
   "outputs": [],
   "source": [
    "# Import geolocation data\n",
    "import spacy\n",
    "import pandas as pd"
   ]
  },
  {
   "cell_type": "code",
   "execution_count": 28,
   "id": "31de5c1c",
   "metadata": {},
   "outputs": [],
   "source": [
    "locate = spacy.load(\"en_core_web_sm\")"
   ]
  },
  {
   "cell_type": "code",
   "execution_count": 59,
   "id": "47b43def",
   "metadata": {},
   "outputs": [],
   "source": [
    "# Storing location\n",
    "\n",
    "z=[]\n",
    "location = data.rdd.map(lambda x: x[8]).collect()"
   ]
  },
  {
   "cell_type": "code",
   "execution_count": 65,
   "id": "8677c9e6",
   "metadata": {},
   "outputs": [],
   "source": [
    "# Convert the user location to their respective country\n",
    "\n",
    "for names in location:\n",
    "    if names:\n",
    "        loc = locate(names)\n",
    "        for country in loc.ents:\n",
    "            if country.label_ in ['GPE']:\n",
    "                z.append(country.text)"
   ]
  },
  {
   "cell_type": "code",
   "execution_count": 70,
   "id": "d6b6a2f7",
   "metadata": {},
   "outputs": [],
   "source": [
    "df = pd.DataFrame(z,columns =['Country'])"
   ]
  },
  {
   "cell_type": "code",
   "execution_count": 71,
   "id": "884b603d",
   "metadata": {},
   "outputs": [
    {
     "data": {
      "text/html": [
       "<div>\n",
       "<style scoped>\n",
       "    .dataframe tbody tr th:only-of-type {\n",
       "        vertical-align: middle;\n",
       "    }\n",
       "\n",
       "    .dataframe tbody tr th {\n",
       "        vertical-align: top;\n",
       "    }\n",
       "\n",
       "    .dataframe thead th {\n",
       "        text-align: right;\n",
       "    }\n",
       "</style>\n",
       "<table border=\"1\" class=\"dataframe\">\n",
       "  <thead>\n",
       "    <tr style=\"text-align: right;\">\n",
       "      <th></th>\n",
       "      <th>Country</th>\n",
       "    </tr>\n",
       "  </thead>\n",
       "  <tbody>\n",
       "    <tr>\n",
       "      <th>0</th>\n",
       "      <td>Casablanca</td>\n",
       "    </tr>\n",
       "    <tr>\n",
       "      <th>1</th>\n",
       "      <td>New Mexico</td>\n",
       "    </tr>\n",
       "    <tr>\n",
       "      <th>2</th>\n",
       "      <td>USA</td>\n",
       "    </tr>\n",
       "    <tr>\n",
       "      <th>3</th>\n",
       "      <td>England</td>\n",
       "    </tr>\n",
       "    <tr>\n",
       "      <th>4</th>\n",
       "      <td>England</td>\n",
       "    </tr>\n",
       "  </tbody>\n",
       "</table>\n",
       "</div>"
      ],
      "text/plain": [
       "      Country\n",
       "0  Casablanca\n",
       "1  New Mexico\n",
       "2         USA\n",
       "3     England\n",
       "4     England"
      ]
     },
     "execution_count": 71,
     "metadata": {},
     "output_type": "execute_result"
    }
   ],
   "source": [
    "df.head()"
   ]
  },
  {
   "cell_type": "code",
   "execution_count": 77,
   "id": "22f8ef29",
   "metadata": {},
   "outputs": [],
   "source": [
    "count_df = df['Country'].value_counts()"
   ]
  },
  {
   "cell_type": "code",
   "execution_count": 85,
   "id": "67998068",
   "metadata": {},
   "outputs": [],
   "source": [
    "count_df = pd.DataFrame(count_df)"
   ]
  },
  {
   "cell_type": "code",
   "execution_count": 86,
   "id": "8a0db816",
   "metadata": {
    "scrolled": true
   },
   "outputs": [
    {
     "data": {
      "text/html": [
       "<div>\n",
       "<style scoped>\n",
       "    .dataframe tbody tr th:only-of-type {\n",
       "        vertical-align: middle;\n",
       "    }\n",
       "\n",
       "    .dataframe tbody tr th {\n",
       "        vertical-align: top;\n",
       "    }\n",
       "\n",
       "    .dataframe thead th {\n",
       "        text-align: right;\n",
       "    }\n",
       "</style>\n",
       "<table border=\"1\" class=\"dataframe\">\n",
       "  <thead>\n",
       "    <tr style=\"text-align: right;\">\n",
       "      <th></th>\n",
       "      <th>Country</th>\n",
       "    </tr>\n",
       "  </thead>\n",
       "  <tbody>\n",
       "    <tr>\n",
       "      <th>Qatar</th>\n",
       "      <td>42193</td>\n",
       "    </tr>\n",
       "    <tr>\n",
       "      <th>England</th>\n",
       "      <td>29114</td>\n",
       "    </tr>\n",
       "    <tr>\n",
       "      <th>India</th>\n",
       "      <td>26749</td>\n",
       "    </tr>\n",
       "    <tr>\n",
       "      <th>Doha</th>\n",
       "      <td>21082</td>\n",
       "    </tr>\n",
       "    <tr>\n",
       "      <th>London</th>\n",
       "      <td>16746</td>\n",
       "    </tr>\n",
       "    <tr>\n",
       "      <th>...</th>\n",
       "      <td>...</td>\n",
       "    </tr>\n",
       "    <tr>\n",
       "      <th>stockholm</th>\n",
       "      <td>1</td>\n",
       "    </tr>\n",
       "    <tr>\n",
       "      <th>Malpura</th>\n",
       "      <td>1</td>\n",
       "    </tr>\n",
       "    <tr>\n",
       "      <th>Costa Del Sol</th>\n",
       "      <td>1</td>\n",
       "    </tr>\n",
       "    <tr>\n",
       "      <th>Magill</th>\n",
       "      <td>1</td>\n",
       "    </tr>\n",
       "    <tr>\n",
       "      <th>Condado</th>\n",
       "      <td>1</td>\n",
       "    </tr>\n",
       "  </tbody>\n",
       "</table>\n",
       "<p>8390 rows × 1 columns</p>\n",
       "</div>"
      ],
      "text/plain": [
       "               Country\n",
       "Qatar            42193\n",
       "England          29114\n",
       "India            26749\n",
       "Doha             21082\n",
       "London           16746\n",
       "...                ...\n",
       "stockholm            1\n",
       "Malpura              1\n",
       "Costa Del Sol        1\n",
       "Magill               1\n",
       "Condado              1\n",
       "\n",
       "[8390 rows x 1 columns]"
      ]
     },
     "execution_count": 86,
     "metadata": {},
     "output_type": "execute_result"
    }
   ],
   "source": [
    "count_df"
   ]
  },
  {
   "cell_type": "code",
   "execution_count": 90,
   "id": "2f77d9f8",
   "metadata": {},
   "outputs": [],
   "source": [
    "count_df.to_csv('country.csv')"
   ]
  },
  {
   "cell_type": "code",
   "execution_count": null,
   "id": "a625d93b",
   "metadata": {},
   "outputs": [],
   "source": []
  }
 ],
 "metadata": {
  "kernelspec": {
   "display_name": "Python 3 (ipykernel)",
   "language": "python",
   "name": "python3"
  },
  "language_info": {
   "codemirror_mode": {
    "name": "ipython",
    "version": 3
   },
   "file_extension": ".py",
   "mimetype": "text/x-python",
   "name": "python",
   "nbconvert_exporter": "python",
   "pygments_lexer": "ipython3",
   "version": "3.9.13"
  }
 },
 "nbformat": 4,
 "nbformat_minor": 5
}
